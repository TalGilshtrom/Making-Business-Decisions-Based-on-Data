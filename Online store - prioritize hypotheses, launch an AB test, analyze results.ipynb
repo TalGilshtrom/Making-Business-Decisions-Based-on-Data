{
 "cells": [
  {
   "cell_type": "markdown",
   "metadata": {
    "toc": true
   },
   "source": [
    "<h1>Table of Contents<span class=\"tocSkip\"></span></h1>\n",
    "<div class=\"toc\"><ul class=\"toc-item\"><li><span><a href=\"#Goal-of-the-project\" data-toc-modified-id=\"Goal-of-the-project-1\"><span class=\"toc-item-num\">1&nbsp;&nbsp;</span>Goal of the project</a></span></li><li><span><a href=\"#Description-of-the-data\" data-toc-modified-id=\"Description-of-the-data-2\"><span class=\"toc-item-num\">2&nbsp;&nbsp;</span>Description of the data</a></span></li><li><span><a href=\"#import-libraries-and-data\" data-toc-modified-id=\"import-libraries-and-data-3\"><span class=\"toc-item-num\">3&nbsp;&nbsp;</span>import libraries and data</a></span></li><li><span><a href=\"#Prioritizing-Hypotheses\" data-toc-modified-id=\"Prioritizing-Hypotheses-4\"><span class=\"toc-item-num\">4&nbsp;&nbsp;</span>Prioritizing Hypotheses</a></span><ul class=\"toc-item\"><li><span><a href=\"#ice\" data-toc-modified-id=\"ice-4.1\"><span class=\"toc-item-num\">4.1&nbsp;&nbsp;</span>ice</a></span></li><li><span><a href=\"#rice\" data-toc-modified-id=\"rice-4.2\"><span class=\"toc-item-num\">4.2&nbsp;&nbsp;</span>rice</a></span></li></ul></li><li><span><a href=\"#2.-A/B-Test-Analysis\" data-toc-modified-id=\"2.-A/B-Test-Analysis-5\"><span class=\"toc-item-num\">5&nbsp;&nbsp;</span>2. A/B Test Analysis</a></span><ul class=\"toc-item\"><li><span><a href=\"#Graph-cumulative-revenue-by-group.-Make-conclusions-and-conjectures.\" data-toc-modified-id=\"Graph-cumulative-revenue-by-group.-Make-conclusions-and-conjectures.-5.1\"><span class=\"toc-item-num\">5.1&nbsp;&nbsp;</span>Graph cumulative revenue by group. Make conclusions and conjectures.</a></span></li><li><span><a href=\"#Graph-cumulative-average-order-size-by-group.-Make-conclusions-and-conjectures.\" data-toc-modified-id=\"Graph-cumulative-average-order-size-by-group.-Make-conclusions-and-conjectures.-5.2\"><span class=\"toc-item-num\">5.2&nbsp;&nbsp;</span>Graph cumulative average order size by group. Make conclusions and conjectures.</a></span></li><li><span><a href=\"#Graph-the-relative-difference-in-cumulative-average-order-size-for-group-B-compared-with-group-A.-Make-conclusions-and-conjectures.\" data-toc-modified-id=\"Graph-the-relative-difference-in-cumulative-average-order-size-for-group-B-compared-with-group-A.-Make-conclusions-and-conjectures.-5.3\"><span class=\"toc-item-num\">5.3&nbsp;&nbsp;</span>Graph the relative difference in cumulative average order size for group B compared with group A. Make conclusions and conjectures.</a></span></li><li><span><a href=\"#Calculate-each-group's-conversion-rate-as-the-ratio-of-orders-to-the-number-of-visits-for-each-day.-Plot-the-daily-conversion-rates-of-the-two-groups-and-describe-the-difference.-Draw-conclusions-and-make-conjectures.\" data-toc-modified-id=\"Calculate-each-group's-conversion-rate-as-the-ratio-of-orders-to-the-number-of-visits-for-each-day.-Plot-the-daily-conversion-rates-of-the-two-groups-and-describe-the-difference.-Draw-conclusions-and-make-conjectures.-5.4\"><span class=\"toc-item-num\">5.4&nbsp;&nbsp;</span>Calculate each group's conversion rate as the ratio of orders to the number of visits for each day. Plot the daily conversion rates of the two groups and describe the difference. Draw conclusions and make conjectures.</a></span></li><li><span><a href=\"#Plot-a-scatter-chart-of-the-number-of-orders-per-user.-Make-conclusions-and-conjectures.\" data-toc-modified-id=\"Plot-a-scatter-chart-of-the-number-of-orders-per-user.-Make-conclusions-and-conjectures.-5.5\"><span class=\"toc-item-num\">5.5&nbsp;&nbsp;</span>Plot a scatter chart of the number of orders per user. Make conclusions and conjectures.</a></span></li><li><span><a href=\"#Calculate-the-95th-and-99th-percentiles-for-the-number-of-orders-per-user.-Define-the-point-at-which-a-data-point-becomes-an-anomaly.\" data-toc-modified-id=\"Calculate-the-95th-and-99th-percentiles-for-the-number-of-orders-per-user.-Define-the-point-at-which-a-data-point-becomes-an-anomaly.-5.6\"><span class=\"toc-item-num\">5.6&nbsp;&nbsp;</span>Calculate the 95th and 99th percentiles for the number of orders per user. Define the point at which a data point becomes an anomaly.</a></span></li><li><span><a href=\"#Plot-a-scatter-chart-of-order-prices.-Make-conclusions-and-conjectures.\" data-toc-modified-id=\"Plot-a-scatter-chart-of-order-prices.-Make-conclusions-and-conjectures.-5.7\"><span class=\"toc-item-num\">5.7&nbsp;&nbsp;</span>Plot a scatter chart of order prices. Make conclusions and conjectures.</a></span></li><li><span><a href=\"#Calculate-the-95th-and-99th-percentiles-of-order-prices.-Define-the-point-at-which-a-data-point-becomes-an-anomaly.\" data-toc-modified-id=\"Calculate-the-95th-and-99th-percentiles-of-order-prices.-Define-the-point-at-which-a-data-point-becomes-an-anomaly.-5.8\"><span class=\"toc-item-num\">5.8&nbsp;&nbsp;</span>Calculate the 95th and 99th percentiles of order prices. Define the point at which a data point becomes an anomaly.</a></span></li><li><span><a href=\"#Find-the-statistical-significance-of-the-difference-in-conversion-between-the-groups-using-the-raw-data.-Make-conclusions-and-conjectures.\" data-toc-modified-id=\"Find-the-statistical-significance-of-the-difference-in-conversion-between-the-groups-using-the-raw-data.-Make-conclusions-and-conjectures.-5.9\"><span class=\"toc-item-num\">5.9&nbsp;&nbsp;</span>Find the statistical significance of the difference in conversion between the groups using the raw data. Make conclusions and conjectures.</a></span></li><li><span><a href=\"#Find-the-statistical-significance-of-the-difference-in-average-order-size-between-the-groups-using-the-raw-data.-Make-conclusions-and-conjectures.\" data-toc-modified-id=\"Find-the-statistical-significance-of-the-difference-in-average-order-size-between-the-groups-using-the-raw-data.-Make-conclusions-and-conjectures.-5.10\"><span class=\"toc-item-num\">5.10&nbsp;&nbsp;</span>Find the statistical significance of the difference in average order size between the groups using the raw data. Make conclusions and conjectures.</a></span></li><li><span><a href=\"#Find-the-statistical-significance-of-the-difference-in-conversion-between-the-groups-using-the-filtered-data.-Make-conclusions-and-conjectures.\" data-toc-modified-id=\"Find-the-statistical-significance-of-the-difference-in-conversion-between-the-groups-using-the-filtered-data.-Make-conclusions-and-conjectures.-5.11\"><span class=\"toc-item-num\">5.11&nbsp;&nbsp;</span>Find the statistical significance of the difference in conversion between the groups using the filtered data. Make conclusions and conjectures.</a></span></li><li><span><a href=\"#Find-the-statistical-significance-of-the-difference-in-average-order-size-between-the-groups-using-the-filtered-data.-Make-conclusions-and-conjectures.\" data-toc-modified-id=\"Find-the-statistical-significance-of-the-difference-in-average-order-size-between-the-groups-using-the-filtered-data.-Make-conclusions-and-conjectures.-5.12\"><span class=\"toc-item-num\">5.12&nbsp;&nbsp;</span>Find the statistical significance of the difference in average order size between the groups using the filtered data. Make conclusions and conjectures.</a></span></li></ul></li><li><span><a href=\"#Conclusion\" data-toc-modified-id=\"Conclusion-6\"><span class=\"toc-item-num\">6&nbsp;&nbsp;</span>Conclusion</a></span></li></ul></div>"
   ]
  },
  {
   "cell_type": "markdown",
   "metadata": {},
   "source": [
    "## Goal of the project"
   ]
  },
  {
   "cell_type": "markdown",
   "metadata": {},
   "source": [
    ">__You are an analyst at a big online store. Together with the marketing department, you've compiled a list of hypotheses that may help boost revenue.\n",
    "You need to prioritize these hypotheses, launch an A/B test, and analyze the results.__"
   ]
  },
  {
   "cell_type": "markdown",
   "metadata": {},
   "source": [
    "## Description of the data"
   ]
  },
  {
   "cell_type": "markdown",
   "metadata": {},
   "source": [
    "__Data used in the first part of the project__\n",
    "<br>\n",
    "\n",
    "`Hypotheses` — brief descriptions of the hypotheses\n",
    "<br>\n",
    "\n",
    "`Reach` — user reach, on a scale of one to ten\n",
    "<br>\n",
    "\n",
    "`Impact` — impact on users, on a scale of one to ten\n",
    "<br>\n",
    "\n",
    "`Confidence` — confidence in the hypothesis, on a scale of one to ten\n",
    "<br>\n",
    "\n",
    "`Effort` — the resources required to test a hypothesis, on a scale of one to ten. The higher the Effort value, the more \n",
    "<br>\n",
    "\n",
    "`resource`-intensive the test.\n",
    "<br>\n",
    "\n",
    "__Data used in the second part of the project__\n",
    "<br>\n",
    "\n",
    "`transactionId` — order identifier\n",
    "<br>\n",
    "\n",
    "`visitorId` — identifier of the user who placed the order\n",
    "<br>\n",
    "\n",
    "`date` — of the order\n",
    "<br>\n",
    "\n",
    "`revenue` — from the order\n",
    "<br>\n",
    "\n",
    "__group — the A/B test group that the user belongs to__\n",
    "<br>\n",
    "\n",
    "`date` — date\n",
    "<br>\n",
    "\n",
    "`group` — A/B test group\n",
    "<br>\n",
    "\n",
    "`visits` — the number of visits on the date specified in the A/B test group specified"
   ]
  },
  {
   "cell_type": "markdown",
   "metadata": {},
   "source": [
    "## import libraries and data"
   ]
  },
  {
   "cell_type": "code",
   "execution_count": 1,
   "metadata": {},
   "outputs": [],
   "source": [
    "# import libraries\n",
    "\n",
    "import pandas as pd\n",
    "import matplotlib.pyplot as plt\n",
    "import datetime as dt\n",
    "import numpy as np\n",
    "import math\n",
    "from scipy import stats\n",
    "from statsmodels.stats.proportion import proportions_ztest"
   ]
  },
  {
   "cell_type": "code",
   "execution_count": 2,
   "metadata": {},
   "outputs": [],
   "source": [
    "# load data\n",
    "\n",
    "try:\n",
    "    hypotheses = pd.read_csv('C:\\\\Users\\\\User\\\\Downloads\\\\hypotheses_us.csv', sep=';')\n",
    "    visits = pd.read_csv('C:\\\\Users\\\\User\\\\Downloads\\\\visits_us.csv')\n",
    "    orders = pd.read_csv('C:\\\\Users\\\\User\\\\Downloads\\\\orders_us.csv')\n",
    "except:\n",
    "    hypotheses = pd.read_csv('/datasets/hypotheses_us.csv', sep=';')\n",
    "    visits = pd.read_csv('/datasets/visits_us.csv')\n",
    "    orders = pd.read_csv('/datasets/orders_us.csv')"
   ]
  },
  {
   "cell_type": "code",
   "execution_count": 3,
   "metadata": {},
   "outputs": [],
   "source": [
    "orders['date']=pd.to_datetime(orders['date'],dayfirst=True)"
   ]
  },
  {
   "cell_type": "code",
   "execution_count": 4,
   "metadata": {},
   "outputs": [],
   "source": [
    "visits['date']=pd.to_datetime(visits['date'],dayfirst=True)"
   ]
  },
  {
   "cell_type": "markdown",
   "metadata": {},
   "source": [
    "## Prioritizing Hypotheses"
   ]
  },
  {
   "cell_type": "markdown",
   "metadata": {},
   "source": [
    "### ice"
   ]
  },
  {
   "cell_type": "code",
   "execution_count": 5,
   "metadata": {
    "scrolled": true
   },
   "outputs": [
    {
     "data": {
      "text/html": [
       "<div>\n",
       "<style scoped>\n",
       "    .dataframe tbody tr th:only-of-type {\n",
       "        vertical-align: middle;\n",
       "    }\n",
       "\n",
       "    .dataframe tbody tr th {\n",
       "        vertical-align: top;\n",
       "    }\n",
       "\n",
       "    .dataframe thead th {\n",
       "        text-align: right;\n",
       "    }\n",
       "</style>\n",
       "<table border=\"1\" class=\"dataframe\">\n",
       "  <thead>\n",
       "    <tr style=\"text-align: right;\">\n",
       "      <th></th>\n",
       "      <th>Hypothesis</th>\n",
       "      <th>ICE</th>\n",
       "    </tr>\n",
       "  </thead>\n",
       "  <tbody>\n",
       "    <tr>\n",
       "      <th>8</th>\n",
       "      <td>Launch a promotion that gives users discounts on their birthdays</td>\n",
       "      <td>16.200000</td>\n",
       "    </tr>\n",
       "    <tr>\n",
       "      <th>0</th>\n",
       "      <td>Add two new channels for attracting traffic. This will bring 30% more users</td>\n",
       "      <td>13.333333</td>\n",
       "    </tr>\n",
       "    <tr>\n",
       "      <th>7</th>\n",
       "      <td>Add a subscription form to all the main pages. This will help you compile a mailing list</td>\n",
       "      <td>11.200000</td>\n",
       "    </tr>\n",
       "    <tr>\n",
       "      <th>6</th>\n",
       "      <td>Show banners with current offers and sales on the main page. This will boost conversion</td>\n",
       "      <td>8.000000</td>\n",
       "    </tr>\n",
       "    <tr>\n",
       "      <th>2</th>\n",
       "      <td>Add product recommendation blocks to the store's site. This will increase conversion and average purchase size</td>\n",
       "      <td>7.000000</td>\n",
       "    </tr>\n",
       "    <tr>\n",
       "      <th>1</th>\n",
       "      <td>Launch your own delivery service. This will shorten delivery time</td>\n",
       "      <td>2.000000</td>\n",
       "    </tr>\n",
       "    <tr>\n",
       "      <th>5</th>\n",
       "      <td>Add a customer review page. This will increase the number of orders</td>\n",
       "      <td>1.333333</td>\n",
       "    </tr>\n",
       "    <tr>\n",
       "      <th>3</th>\n",
       "      <td>Change the category structure. This will increase conversion since users will find the products they want more quickly</td>\n",
       "      <td>1.125000</td>\n",
       "    </tr>\n",
       "    <tr>\n",
       "      <th>4</th>\n",
       "      <td>Change the background color on the main page. This will increase user engagement</td>\n",
       "      <td>1.000000</td>\n",
       "    </tr>\n",
       "  </tbody>\n",
       "</table>\n",
       "</div>"
      ],
      "text/plain": [
       "                                                                                                               Hypothesis  \\\n",
       "8                                                        Launch a promotion that gives users discounts on their birthdays   \n",
       "0                                             Add two new channels for attracting traffic. This will bring 30% more users   \n",
       "7                                Add a subscription form to all the main pages. This will help you compile a mailing list   \n",
       "6                                 Show banners with current offers and sales on the main page. This will boost conversion   \n",
       "2          Add product recommendation blocks to the store's site. This will increase conversion and average purchase size   \n",
       "1                                                       Launch your own delivery service. This will shorten delivery time   \n",
       "5                                                     Add a customer review page. This will increase the number of orders   \n",
       "3  Change the category structure. This will increase conversion since users will find the products they want more quickly   \n",
       "4                                        Change the background color on the main page. This will increase user engagement   \n",
       "\n",
       "         ICE  \n",
       "8  16.200000  \n",
       "0  13.333333  \n",
       "7  11.200000  \n",
       "6   8.000000  \n",
       "2   7.000000  \n",
       "1   2.000000  \n",
       "5   1.333333  \n",
       "3   1.125000  \n",
       "4   1.000000  "
      ]
     },
     "execution_count": 5,
     "metadata": {},
     "output_type": "execute_result"
    }
   ],
   "source": [
    "# adding width\n",
    "\n",
    "pd.options.display.max_colwidth = 210\n",
    "\n",
    "# calculating ICE \n",
    "\n",
    "hypotheses['ICE'] = (hypotheses['Impact'] * hypotheses['Confidence']) / hypotheses['Effort']\n",
    "hypotheses[['Hypothesis', 'ICE']].sort_values(by='ICE', ascending=False)\n"
   ]
  },
  {
   "cell_type": "markdown",
   "metadata": {},
   "source": [
    "### rice"
   ]
  },
  {
   "cell_type": "code",
   "execution_count": 6,
   "metadata": {},
   "outputs": [
    {
     "data": {
      "text/html": [
       "<div>\n",
       "<style scoped>\n",
       "    .dataframe tbody tr th:only-of-type {\n",
       "        vertical-align: middle;\n",
       "    }\n",
       "\n",
       "    .dataframe tbody tr th {\n",
       "        vertical-align: top;\n",
       "    }\n",
       "\n",
       "    .dataframe thead th {\n",
       "        text-align: right;\n",
       "    }\n",
       "</style>\n",
       "<table border=\"1\" class=\"dataframe\">\n",
       "  <thead>\n",
       "    <tr style=\"text-align: right;\">\n",
       "      <th></th>\n",
       "      <th>Hypothesis</th>\n",
       "      <th>RICE</th>\n",
       "    </tr>\n",
       "  </thead>\n",
       "  <tbody>\n",
       "    <tr>\n",
       "      <th>7</th>\n",
       "      <td>Add a subscription form to all the main pages. This will help you compile a mailing list</td>\n",
       "      <td>112.0</td>\n",
       "    </tr>\n",
       "    <tr>\n",
       "      <th>2</th>\n",
       "      <td>Add product recommendation blocks to the store's site. This will increase conversion and average purchase size</td>\n",
       "      <td>56.0</td>\n",
       "    </tr>\n",
       "    <tr>\n",
       "      <th>0</th>\n",
       "      <td>Add two new channels for attracting traffic. This will bring 30% more users</td>\n",
       "      <td>40.0</td>\n",
       "    </tr>\n",
       "    <tr>\n",
       "      <th>6</th>\n",
       "      <td>Show banners with current offers and sales on the main page. This will boost conversion</td>\n",
       "      <td>40.0</td>\n",
       "    </tr>\n",
       "    <tr>\n",
       "      <th>8</th>\n",
       "      <td>Launch a promotion that gives users discounts on their birthdays</td>\n",
       "      <td>16.2</td>\n",
       "    </tr>\n",
       "    <tr>\n",
       "      <th>3</th>\n",
       "      <td>Change the category structure. This will increase conversion since users will find the products they want more quickly</td>\n",
       "      <td>9.0</td>\n",
       "    </tr>\n",
       "    <tr>\n",
       "      <th>1</th>\n",
       "      <td>Launch your own delivery service. This will shorten delivery time</td>\n",
       "      <td>4.0</td>\n",
       "    </tr>\n",
       "    <tr>\n",
       "      <th>5</th>\n",
       "      <td>Add a customer review page. This will increase the number of orders</td>\n",
       "      <td>4.0</td>\n",
       "    </tr>\n",
       "    <tr>\n",
       "      <th>4</th>\n",
       "      <td>Change the background color on the main page. This will increase user engagement</td>\n",
       "      <td>3.0</td>\n",
       "    </tr>\n",
       "  </tbody>\n",
       "</table>\n",
       "</div>"
      ],
      "text/plain": [
       "                                                                                                               Hypothesis  \\\n",
       "7                                Add a subscription form to all the main pages. This will help you compile a mailing list   \n",
       "2          Add product recommendation blocks to the store's site. This will increase conversion and average purchase size   \n",
       "0                                             Add two new channels for attracting traffic. This will bring 30% more users   \n",
       "6                                 Show banners with current offers and sales on the main page. This will boost conversion   \n",
       "8                                                        Launch a promotion that gives users discounts on their birthdays   \n",
       "3  Change the category structure. This will increase conversion since users will find the products they want more quickly   \n",
       "1                                                       Launch your own delivery service. This will shorten delivery time   \n",
       "5                                                     Add a customer review page. This will increase the number of orders   \n",
       "4                                        Change the background color on the main page. This will increase user engagement   \n",
       "\n",
       "    RICE  \n",
       "7  112.0  \n",
       "2   56.0  \n",
       "0   40.0  \n",
       "6   40.0  \n",
       "8   16.2  \n",
       "3    9.0  \n",
       "1    4.0  \n",
       "5    4.0  \n",
       "4    3.0  "
      ]
     },
     "execution_count": 6,
     "metadata": {},
     "output_type": "execute_result"
    }
   ],
   "source": [
    "# calculating RICE\n",
    "\n",
    "hypotheses['RICE'] = (hypotheses['Reach'] * hypotheses['Impact'] * hypotheses['Confidence']) / hypotheses['Effort']\n",
    "hypotheses[['Hypothesis', 'RICE']].sort_values(by='RICE', ascending=False)"
   ]
  },
  {
   "cell_type": "markdown",
   "metadata": {},
   "source": [
    ">* __we can see that the top 5 hypotheses stay the same with both methods, but the order has changed.__\n",
    "<br>\n",
    "\n",
    ">* __we can see that hypotheses 8 was the first with the ICE method but didnt have any impact on the users at all, so with the RICE method it stayed with the same score and became number 5 in the prioritizing.__\n",
    "<br>\n",
    "\n",
    ">* __we can see that the biggest impact is of hypotheses 7, which is the first hypotheses to try when we are using RICE method, since it has a huge impact on the users if its true.__"
   ]
  },
  {
   "cell_type": "markdown",
   "metadata": {},
   "source": [
    "## 2. A/B Test Analysis"
   ]
  },
  {
   "cell_type": "markdown",
   "metadata": {},
   "source": [
    "### Graph cumulative revenue by group. Make conclusions and conjectures.\n"
   ]
  },
  {
   "cell_type": "code",
   "execution_count": 7,
   "metadata": {},
   "outputs": [
    {
     "data": {
      "text/html": [
       "<div>\n",
       "<style scoped>\n",
       "    .dataframe tbody tr th:only-of-type {\n",
       "        vertical-align: middle;\n",
       "    }\n",
       "\n",
       "    .dataframe tbody tr th {\n",
       "        vertical-align: top;\n",
       "    }\n",
       "\n",
       "    .dataframe thead th {\n",
       "        text-align: right;\n",
       "    }\n",
       "</style>\n",
       "<table border=\"1\" class=\"dataframe\">\n",
       "  <thead>\n",
       "    <tr style=\"text-align: right;\">\n",
       "      <th></th>\n",
       "      <th>transactionId</th>\n",
       "      <th>visitorId</th>\n",
       "      <th>date</th>\n",
       "      <th>revenue</th>\n",
       "      <th>group</th>\n",
       "    </tr>\n",
       "  </thead>\n",
       "  <tbody>\n",
       "    <tr>\n",
       "      <th>0</th>\n",
       "      <td>3667963787</td>\n",
       "      <td>3312258926</td>\n",
       "      <td>2019-08-15</td>\n",
       "      <td>30.4</td>\n",
       "      <td>B</td>\n",
       "    </tr>\n",
       "    <tr>\n",
       "      <th>1</th>\n",
       "      <td>2804400009</td>\n",
       "      <td>3642806036</td>\n",
       "      <td>2019-08-15</td>\n",
       "      <td>15.2</td>\n",
       "      <td>B</td>\n",
       "    </tr>\n",
       "    <tr>\n",
       "      <th>2</th>\n",
       "      <td>2961555356</td>\n",
       "      <td>4069496402</td>\n",
       "      <td>2019-08-15</td>\n",
       "      <td>10.2</td>\n",
       "      <td>A</td>\n",
       "    </tr>\n",
       "    <tr>\n",
       "      <th>3</th>\n",
       "      <td>3797467345</td>\n",
       "      <td>1196621759</td>\n",
       "      <td>2019-08-15</td>\n",
       "      <td>155.1</td>\n",
       "      <td>B</td>\n",
       "    </tr>\n",
       "    <tr>\n",
       "      <th>4</th>\n",
       "      <td>2282983706</td>\n",
       "      <td>2322279887</td>\n",
       "      <td>2019-08-15</td>\n",
       "      <td>40.5</td>\n",
       "      <td>B</td>\n",
       "    </tr>\n",
       "  </tbody>\n",
       "</table>\n",
       "</div>"
      ],
      "text/plain": [
       "   transactionId   visitorId       date  revenue group\n",
       "0     3667963787  3312258926 2019-08-15     30.4     B\n",
       "1     2804400009  3642806036 2019-08-15     15.2     B\n",
       "2     2961555356  4069496402 2019-08-15     10.2     A\n",
       "3     3797467345  1196621759 2019-08-15    155.1     B\n",
       "4     2282983706  2322279887 2019-08-15     40.5     B"
      ]
     },
     "execution_count": 7,
     "metadata": {},
     "output_type": "execute_result"
    }
   ],
   "source": [
    "orders.head()"
   ]
  },
  {
   "cell_type": "code",
   "execution_count": 8,
   "metadata": {},
   "outputs": [
    {
     "data": {
      "text/html": [
       "<div>\n",
       "<style scoped>\n",
       "    .dataframe tbody tr th:only-of-type {\n",
       "        vertical-align: middle;\n",
       "    }\n",
       "\n",
       "    .dataframe tbody tr th {\n",
       "        vertical-align: top;\n",
       "    }\n",
       "\n",
       "    .dataframe thead th {\n",
       "        text-align: right;\n",
       "    }\n",
       "</style>\n",
       "<table border=\"1\" class=\"dataframe\">\n",
       "  <thead>\n",
       "    <tr style=\"text-align: right;\">\n",
       "      <th></th>\n",
       "      <th>date</th>\n",
       "      <th>group</th>\n",
       "      <th>revenue</th>\n",
       "      <th>transactionId</th>\n",
       "    </tr>\n",
       "  </thead>\n",
       "  <tbody>\n",
       "    <tr>\n",
       "      <th>0</th>\n",
       "      <td>2019-08-01</td>\n",
       "      <td>A</td>\n",
       "      <td>2356.8</td>\n",
       "      <td>24</td>\n",
       "    </tr>\n",
       "    <tr>\n",
       "      <th>2</th>\n",
       "      <td>2019-08-02</td>\n",
       "      <td>A</td>\n",
       "      <td>1503.5</td>\n",
       "      <td>20</td>\n",
       "    </tr>\n",
       "    <tr>\n",
       "      <th>4</th>\n",
       "      <td>2019-08-03</td>\n",
       "      <td>A</td>\n",
       "      <td>1815.2</td>\n",
       "      <td>24</td>\n",
       "    </tr>\n",
       "    <tr>\n",
       "      <th>6</th>\n",
       "      <td>2019-08-04</td>\n",
       "      <td>A</td>\n",
       "      <td>1146.6</td>\n",
       "      <td>16</td>\n",
       "    </tr>\n",
       "    <tr>\n",
       "      <th>8</th>\n",
       "      <td>2019-08-05</td>\n",
       "      <td>A</td>\n",
       "      <td>1988.1</td>\n",
       "      <td>25</td>\n",
       "    </tr>\n",
       "  </tbody>\n",
       "</table>\n",
       "</div>"
      ],
      "text/plain": [
       "        date group  revenue  transactionId\n",
       "0 2019-08-01     A   2356.8             24\n",
       "2 2019-08-02     A   1503.5             20\n",
       "4 2019-08-03     A   1815.2             24\n",
       "6 2019-08-04     A   1146.6             16\n",
       "8 2019-08-05     A   1988.1             25"
      ]
     },
     "execution_count": 8,
     "metadata": {},
     "output_type": "execute_result"
    }
   ],
   "source": [
    "# get revenue and number of orders per day\n",
    "\n",
    "aggOrders = orders.groupby(['date', 'group']).agg({'revenue': 'sum', 'transactionId': 'count'}).reset_index().sort_values(by=['group', 'date'])\n",
    "aggOrders.head()"
   ]
  },
  {
   "cell_type": "code",
   "execution_count": 9,
   "metadata": {},
   "outputs": [
    {
     "data": {
      "text/html": [
       "<div>\n",
       "<style scoped>\n",
       "    .dataframe tbody tr th:only-of-type {\n",
       "        vertical-align: middle;\n",
       "    }\n",
       "\n",
       "    .dataframe tbody tr th {\n",
       "        vertical-align: top;\n",
       "    }\n",
       "\n",
       "    .dataframe thead th {\n",
       "        text-align: right;\n",
       "    }\n",
       "</style>\n",
       "<table border=\"1\" class=\"dataframe\">\n",
       "  <thead>\n",
       "    <tr style=\"text-align: right;\">\n",
       "      <th></th>\n",
       "      <th>date</th>\n",
       "      <th>group</th>\n",
       "      <th>visits</th>\n",
       "    </tr>\n",
       "  </thead>\n",
       "  <tbody>\n",
       "    <tr>\n",
       "      <th>0</th>\n",
       "      <td>2019-08-01</td>\n",
       "      <td>A</td>\n",
       "      <td>719</td>\n",
       "    </tr>\n",
       "    <tr>\n",
       "      <th>1</th>\n",
       "      <td>2019-08-02</td>\n",
       "      <td>A</td>\n",
       "      <td>619</td>\n",
       "    </tr>\n",
       "    <tr>\n",
       "      <th>2</th>\n",
       "      <td>2019-08-03</td>\n",
       "      <td>A</td>\n",
       "      <td>507</td>\n",
       "    </tr>\n",
       "    <tr>\n",
       "      <th>3</th>\n",
       "      <td>2019-08-04</td>\n",
       "      <td>A</td>\n",
       "      <td>717</td>\n",
       "    </tr>\n",
       "    <tr>\n",
       "      <th>4</th>\n",
       "      <td>2019-08-05</td>\n",
       "      <td>A</td>\n",
       "      <td>756</td>\n",
       "    </tr>\n",
       "  </tbody>\n",
       "</table>\n",
       "</div>"
      ],
      "text/plain": [
       "        date group  visits\n",
       "0 2019-08-01     A     719\n",
       "1 2019-08-02     A     619\n",
       "2 2019-08-03     A     507\n",
       "3 2019-08-04     A     717\n",
       "4 2019-08-05     A     756"
      ]
     },
     "execution_count": 9,
     "metadata": {},
     "output_type": "execute_result"
    }
   ],
   "source": [
    "visits.head()"
   ]
  },
  {
   "cell_type": "code",
   "execution_count": 10,
   "metadata": {},
   "outputs": [],
   "source": [
    "# merge aggorders with visits\n",
    "\n",
    "cumulativeData = aggOrders.merge(visits, left_on=['date', 'group'], right_on=['date', 'group'])"
   ]
  },
  {
   "cell_type": "code",
   "execution_count": 11,
   "metadata": {},
   "outputs": [
    {
     "data": {
      "text/html": [
       "<div>\n",
       "<style scoped>\n",
       "    .dataframe tbody tr th:only-of-type {\n",
       "        vertical-align: middle;\n",
       "    }\n",
       "\n",
       "    .dataframe tbody tr th {\n",
       "        vertical-align: top;\n",
       "    }\n",
       "\n",
       "    .dataframe thead th {\n",
       "        text-align: right;\n",
       "    }\n",
       "</style>\n",
       "<table border=\"1\" class=\"dataframe\">\n",
       "  <thead>\n",
       "    <tr style=\"text-align: right;\">\n",
       "      <th></th>\n",
       "      <th>date</th>\n",
       "      <th>group</th>\n",
       "      <th>revenue</th>\n",
       "      <th>purchases</th>\n",
       "      <th>visits</th>\n",
       "    </tr>\n",
       "  </thead>\n",
       "  <tbody>\n",
       "    <tr>\n",
       "      <th>0</th>\n",
       "      <td>2019-08-01</td>\n",
       "      <td>A</td>\n",
       "      <td>2356.8</td>\n",
       "      <td>24</td>\n",
       "      <td>719</td>\n",
       "    </tr>\n",
       "    <tr>\n",
       "      <th>1</th>\n",
       "      <td>2019-08-02</td>\n",
       "      <td>A</td>\n",
       "      <td>1503.5</td>\n",
       "      <td>20</td>\n",
       "      <td>619</td>\n",
       "    </tr>\n",
       "    <tr>\n",
       "      <th>2</th>\n",
       "      <td>2019-08-03</td>\n",
       "      <td>A</td>\n",
       "      <td>1815.2</td>\n",
       "      <td>24</td>\n",
       "      <td>507</td>\n",
       "    </tr>\n",
       "    <tr>\n",
       "      <th>3</th>\n",
       "      <td>2019-08-04</td>\n",
       "      <td>A</td>\n",
       "      <td>1146.6</td>\n",
       "      <td>16</td>\n",
       "      <td>717</td>\n",
       "    </tr>\n",
       "    <tr>\n",
       "      <th>4</th>\n",
       "      <td>2019-08-05</td>\n",
       "      <td>A</td>\n",
       "      <td>1988.1</td>\n",
       "      <td>25</td>\n",
       "      <td>756</td>\n",
       "    </tr>\n",
       "    <tr>\n",
       "      <th>...</th>\n",
       "      <td>...</td>\n",
       "      <td>...</td>\n",
       "      <td>...</td>\n",
       "      <td>...</td>\n",
       "      <td>...</td>\n",
       "    </tr>\n",
       "    <tr>\n",
       "      <th>57</th>\n",
       "      <td>2019-08-27</td>\n",
       "      <td>B</td>\n",
       "      <td>2319.8</td>\n",
       "      <td>16</td>\n",
       "      <td>720</td>\n",
       "    </tr>\n",
       "    <tr>\n",
       "      <th>58</th>\n",
       "      <td>2019-08-28</td>\n",
       "      <td>B</td>\n",
       "      <td>1558.0</td>\n",
       "      <td>28</td>\n",
       "      <td>654</td>\n",
       "    </tr>\n",
       "    <tr>\n",
       "      <th>59</th>\n",
       "      <td>2019-08-29</td>\n",
       "      <td>B</td>\n",
       "      <td>3623.7</td>\n",
       "      <td>20</td>\n",
       "      <td>531</td>\n",
       "    </tr>\n",
       "    <tr>\n",
       "      <th>60</th>\n",
       "      <td>2019-08-30</td>\n",
       "      <td>B</td>\n",
       "      <td>3393.3</td>\n",
       "      <td>24</td>\n",
       "      <td>490</td>\n",
       "    </tr>\n",
       "    <tr>\n",
       "      <th>61</th>\n",
       "      <td>2019-08-31</td>\n",
       "      <td>B</td>\n",
       "      <td>2104.3</td>\n",
       "      <td>20</td>\n",
       "      <td>718</td>\n",
       "    </tr>\n",
       "  </tbody>\n",
       "</table>\n",
       "<p>62 rows × 5 columns</p>\n",
       "</div>"
      ],
      "text/plain": [
       "         date group  revenue  purchases  visits\n",
       "0  2019-08-01     A   2356.8         24     719\n",
       "1  2019-08-02     A   1503.5         20     619\n",
       "2  2019-08-03     A   1815.2         24     507\n",
       "3  2019-08-04     A   1146.6         16     717\n",
       "4  2019-08-05     A   1988.1         25     756\n",
       "..        ...   ...      ...        ...     ...\n",
       "57 2019-08-27     B   2319.8         16     720\n",
       "58 2019-08-28     B   1558.0         28     654\n",
       "59 2019-08-29     B   3623.7         20     531\n",
       "60 2019-08-30     B   3393.3         24     490\n",
       "61 2019-08-31     B   2104.3         20     718\n",
       "\n",
       "[62 rows x 5 columns]"
      ]
     },
     "execution_count": 11,
     "metadata": {},
     "output_type": "execute_result"
    }
   ],
   "source": [
    "# rename column\n",
    "\n",
    "cumulativeData = cumulativeData.rename(columns={'transactionId': 'purchases'})\n",
    "cumulativeData"
   ]
  },
  {
   "cell_type": "code",
   "execution_count": 12,
   "metadata": {},
   "outputs": [],
   "source": [
    "# devide by groups\n",
    "\n",
    "cumulativeDataB = cumulativeData[cumulativeData['group'] == 'B']\n",
    "cumulativeDataA = cumulativeData[cumulativeData['group'] == 'A']"
   ]
  },
  {
   "cell_type": "code",
   "execution_count": 13,
   "metadata": {},
   "outputs": [
    {
     "data": {
      "text/html": [
       "<div>\n",
       "<style scoped>\n",
       "    .dataframe tbody tr th:only-of-type {\n",
       "        vertical-align: middle;\n",
       "    }\n",
       "\n",
       "    .dataframe tbody tr th {\n",
       "        vertical-align: top;\n",
       "    }\n",
       "\n",
       "    .dataframe thead th {\n",
       "        text-align: right;\n",
       "    }\n",
       "</style>\n",
       "<table border=\"1\" class=\"dataframe\">\n",
       "  <thead>\n",
       "    <tr style=\"text-align: right;\">\n",
       "      <th></th>\n",
       "      <th>date</th>\n",
       "      <th>group</th>\n",
       "      <th>revenue</th>\n",
       "      <th>purchases</th>\n",
       "      <th>visits</th>\n",
       "    </tr>\n",
       "  </thead>\n",
       "  <tbody>\n",
       "    <tr>\n",
       "      <th>31</th>\n",
       "      <td>2019-08-01</td>\n",
       "      <td>B</td>\n",
       "      <td>1620.0</td>\n",
       "      <td>21</td>\n",
       "      <td>713</td>\n",
       "    </tr>\n",
       "    <tr>\n",
       "      <th>32</th>\n",
       "      <td>2019-08-02</td>\n",
       "      <td>B</td>\n",
       "      <td>2623.8</td>\n",
       "      <td>24</td>\n",
       "      <td>581</td>\n",
       "    </tr>\n",
       "    <tr>\n",
       "      <th>33</th>\n",
       "      <td>2019-08-03</td>\n",
       "      <td>B</td>\n",
       "      <td>1806.8</td>\n",
       "      <td>16</td>\n",
       "      <td>509</td>\n",
       "    </tr>\n",
       "    <tr>\n",
       "      <th>34</th>\n",
       "      <td>2019-08-04</td>\n",
       "      <td>B</td>\n",
       "      <td>1717.3</td>\n",
       "      <td>17</td>\n",
       "      <td>770</td>\n",
       "    </tr>\n",
       "    <tr>\n",
       "      <th>35</th>\n",
       "      <td>2019-08-05</td>\n",
       "      <td>B</td>\n",
       "      <td>1495.0</td>\n",
       "      <td>23</td>\n",
       "      <td>707</td>\n",
       "    </tr>\n",
       "  </tbody>\n",
       "</table>\n",
       "</div>"
      ],
      "text/plain": [
       "         date group  revenue  purchases  visits\n",
       "31 2019-08-01     B   1620.0         21     713\n",
       "32 2019-08-02     B   2623.8         24     581\n",
       "33 2019-08-03     B   1806.8         16     509\n",
       "34 2019-08-04     B   1717.3         17     770\n",
       "35 2019-08-05     B   1495.0         23     707"
      ]
     },
     "execution_count": 13,
     "metadata": {},
     "output_type": "execute_result"
    }
   ],
   "source": [
    "cumulativeDataB.head()"
   ]
  },
  {
   "cell_type": "code",
   "execution_count": 14,
   "metadata": {},
   "outputs": [
    {
     "data": {
      "text/html": [
       "<div>\n",
       "<style scoped>\n",
       "    .dataframe tbody tr th:only-of-type {\n",
       "        vertical-align: middle;\n",
       "    }\n",
       "\n",
       "    .dataframe tbody tr th {\n",
       "        vertical-align: top;\n",
       "    }\n",
       "\n",
       "    .dataframe thead th {\n",
       "        text-align: right;\n",
       "    }\n",
       "</style>\n",
       "<table border=\"1\" class=\"dataframe\">\n",
       "  <thead>\n",
       "    <tr style=\"text-align: right;\">\n",
       "      <th></th>\n",
       "      <th>date</th>\n",
       "      <th>group</th>\n",
       "      <th>revenue</th>\n",
       "      <th>purchases</th>\n",
       "      <th>visits</th>\n",
       "    </tr>\n",
       "  </thead>\n",
       "  <tbody>\n",
       "    <tr>\n",
       "      <th>0</th>\n",
       "      <td>2019-08-01</td>\n",
       "      <td>A</td>\n",
       "      <td>2356.8</td>\n",
       "      <td>24</td>\n",
       "      <td>719</td>\n",
       "    </tr>\n",
       "    <tr>\n",
       "      <th>1</th>\n",
       "      <td>2019-08-02</td>\n",
       "      <td>A</td>\n",
       "      <td>1503.5</td>\n",
       "      <td>20</td>\n",
       "      <td>619</td>\n",
       "    </tr>\n",
       "    <tr>\n",
       "      <th>2</th>\n",
       "      <td>2019-08-03</td>\n",
       "      <td>A</td>\n",
       "      <td>1815.2</td>\n",
       "      <td>24</td>\n",
       "      <td>507</td>\n",
       "    </tr>\n",
       "    <tr>\n",
       "      <th>3</th>\n",
       "      <td>2019-08-04</td>\n",
       "      <td>A</td>\n",
       "      <td>1146.6</td>\n",
       "      <td>16</td>\n",
       "      <td>717</td>\n",
       "    </tr>\n",
       "    <tr>\n",
       "      <th>4</th>\n",
       "      <td>2019-08-05</td>\n",
       "      <td>A</td>\n",
       "      <td>1988.1</td>\n",
       "      <td>25</td>\n",
       "      <td>756</td>\n",
       "    </tr>\n",
       "  </tbody>\n",
       "</table>\n",
       "</div>"
      ],
      "text/plain": [
       "        date group  revenue  purchases  visits\n",
       "0 2019-08-01     A   2356.8         24     719\n",
       "1 2019-08-02     A   1503.5         20     619\n",
       "2 2019-08-03     A   1815.2         24     507\n",
       "3 2019-08-04     A   1146.6         16     717\n",
       "4 2019-08-05     A   1988.1         25     756"
      ]
     },
     "execution_count": 14,
     "metadata": {},
     "output_type": "execute_result"
    }
   ],
   "source": [
    "cumulativeDataA.head()"
   ]
  },
  {
   "cell_type": "code",
   "execution_count": 15,
   "metadata": {},
   "outputs": [
    {
     "name": "stderr",
     "output_type": "stream",
     "text": [
      "C:\\Users\\User\\AppData\\Local\\Temp/ipykernel_16740/3532779180.py:3: SettingWithCopyWarning: \n",
      "A value is trying to be set on a copy of a slice from a DataFrame.\n",
      "Try using .loc[row_indexer,col_indexer] = value instead\n",
      "\n",
      "See the caveats in the documentation: https://pandas.pydata.org/pandas-docs/stable/user_guide/indexing.html#returning-a-view-versus-a-copy\n",
      "  cumulativeDataA['cumul_rev'] = cumulativeDataA['revenue'].cumsum()\n",
      "C:\\Users\\User\\AppData\\Local\\Temp/ipykernel_16740/3532779180.py:4: SettingWithCopyWarning: \n",
      "A value is trying to be set on a copy of a slice from a DataFrame.\n",
      "Try using .loc[row_indexer,col_indexer] = value instead\n",
      "\n",
      "See the caveats in the documentation: https://pandas.pydata.org/pandas-docs/stable/user_guide/indexing.html#returning-a-view-versus-a-copy\n",
      "  cumulativeDataB['cumul_rev'] = cumulativeDataB['revenue'].cumsum()\n"
     ]
    }
   ],
   "source": [
    "# get cumulative revenue\n",
    "\n",
    "cumulativeDataA['cumul_rev'] = cumulativeDataA['revenue'].cumsum()\n",
    "cumulativeDataB['cumul_rev'] = cumulativeDataB['revenue'].cumsum()"
   ]
  },
  {
   "cell_type": "code",
   "execution_count": 16,
   "metadata": {},
   "outputs": [
    {
     "data": {
      "image/png": "[encoded data removed]",
      "text/plain": [
       "<Figure size 1080x432 with 1 Axes>"
      ]
     },
     "metadata": {
      "needs_background": "light"
     },
     "output_type": "display_data"
    }
   ],
   "source": [
    "# visualize cumulative revenue\n",
    "\n",
    "plt.rcParams[\"figure.figsize\"] = (15,6)\n",
    "plt.plot(cumulativeDataA['date'], cumulativeDataA['cumul_rev'], label='A')\n",
    "plt.plot(cumulativeDataB['date'], cumulativeDataB['cumul_rev'], label='B')\n",
    "plt.xticks(rotation=90)\n",
    "plt.title('Cumulative Revenue per Group')\n",
    "plt.xlabel('Date')\n",
    "plt.ylabel('Revenue')\n",
    "plt.legend()\n",
    "plt.grid()\n",
    "plt.show()"
   ]
  },
  {
   "cell_type": "markdown",
   "metadata": {},
   "source": [
    ">* __we can see by the cumulative revenue graph, that after 4 days of testing, group B made better then group A consistently.__\n",
    "<br>\n",
    "\n",
    ">* __after two weeks of test, the groups had the same revenue for one day, but group B kept performing better since then.__\n",
    "<br>\n",
    "\n",
    ">* __group B performed a big jump in revenue after 18 days of testing, maybe there were big orders.__"
   ]
  },
  {
   "cell_type": "markdown",
   "metadata": {},
   "source": [
    "### Graph cumulative average order size by group. Make conclusions and conjectures.\n"
   ]
  },
  {
   "cell_type": "code",
   "execution_count": 17,
   "metadata": {},
   "outputs": [
    {
     "name": "stderr",
     "output_type": "stream",
     "text": [
      "C:\\Users\\User\\AppData\\Local\\Temp/ipykernel_16740/933137233.py:3: SettingWithCopyWarning: \n",
      "A value is trying to be set on a copy of a slice from a DataFrame.\n",
      "Try using .loc[row_indexer,col_indexer] = value instead\n",
      "\n",
      "See the caveats in the documentation: https://pandas.pydata.org/pandas-docs/stable/user_guide/indexing.html#returning-a-view-versus-a-copy\n",
      "  cumulativeDataA['cumul_purch'] = cumulativeDataA['purchases'].cumsum()\n",
      "C:\\Users\\User\\AppData\\Local\\Temp/ipykernel_16740/933137233.py:4: SettingWithCopyWarning: \n",
      "A value is trying to be set on a copy of a slice from a DataFrame.\n",
      "Try using .loc[row_indexer,col_indexer] = value instead\n",
      "\n",
      "See the caveats in the documentation: https://pandas.pydata.org/pandas-docs/stable/user_guide/indexing.html#returning-a-view-versus-a-copy\n",
      "  cumulativeDataB['cumul_purch'] = cumulativeDataB['purchases'].cumsum()\n"
     ]
    }
   ],
   "source": [
    "# get cumulative number of purchases\n",
    "\n",
    "cumulativeDataA['cumul_purch'] = cumulativeDataA['purchases'].cumsum()\n",
    "cumulativeDataB['cumul_purch'] = cumulativeDataB['purchases'].cumsum()"
   ]
  },
  {
   "cell_type": "code",
   "execution_count": 18,
   "metadata": {},
   "outputs": [
    {
     "name": "stderr",
     "output_type": "stream",
     "text": [
      "C:\\Users\\User\\AppData\\Local\\Temp/ipykernel_16740/3218135793.py:3: SettingWithCopyWarning: \n",
      "A value is trying to be set on a copy of a slice from a DataFrame.\n",
      "Try using .loc[row_indexer,col_indexer] = value instead\n",
      "\n",
      "See the caveats in the documentation: https://pandas.pydata.org/pandas-docs/stable/user_guide/indexing.html#returning-a-view-versus-a-copy\n",
      "  cumulativeDataA['cumul_avpur'] = cumulativeDataA['cumul_rev'] / cumulativeDataA['cumul_purch']\n",
      "C:\\Users\\User\\AppData\\Local\\Temp/ipykernel_16740/3218135793.py:4: SettingWithCopyWarning: \n",
      "A value is trying to be set on a copy of a slice from a DataFrame.\n",
      "Try using .loc[row_indexer,col_indexer] = value instead\n",
      "\n",
      "See the caveats in the documentation: https://pandas.pydata.org/pandas-docs/stable/user_guide/indexing.html#returning-a-view-versus-a-copy\n",
      "  cumulativeDataB['cumul_avpur'] = cumulativeDataB['cumul_rev'] / cumulativeDataB['cumul_purch']\n"
     ]
    }
   ],
   "source": [
    "# get cumulative average revenue per day\n",
    "\n",
    "cumulativeDataA['cumul_avpur'] = cumulativeDataA['cumul_rev'] / cumulativeDataA['cumul_purch']\n",
    "cumulativeDataB['cumul_avpur'] = cumulativeDataB['cumul_rev'] / cumulativeDataB['cumul_purch']"
   ]
  },
  {
   "cell_type": "code",
   "execution_count": 19,
   "metadata": {
    "scrolled": false
   },
   "outputs": [
    {
     "data": {
      "image/png": "[encoded data removed]",
      "text/plain": [
       "<Figure size 1080x432 with 1 Axes>"
      ]
     },
     "metadata": {
      "needs_background": "light"
     },
     "output_type": "display_data"
    }
   ],
   "source": [
    "# visualize cumulative average revenue per day\n",
    "\n",
    "plt.plot(cumulativeDataA['date'], cumulativeDataA['revenue'], label='A')\n",
    "plt.plot(cumulativeDataB['date'], cumulativeDataB['revenue'], label='B')\n",
    "plt.xticks(rotation=90)\n",
    "plt.legend()\n",
    "plt.title('Cumulative Average Revenue per Day')\n",
    "plt.xlabel('Date')\n",
    "plt.ylabel('Revenue')\n",
    "plt.grid()\n",
    "plt.show()"
   ]
  },
  {
   "cell_type": "markdown",
   "metadata": {},
   "source": [
    ">* __indeed we can see that the peak in revenue for group B after 18 days, was made by huge orders in that day.__\n",
    "<br>\n",
    "\n",
    ">* __the rest of the time, the average revenue size for both groups behave similarly, little jumps for both but remaining pretty much with the same size.__ "
   ]
  },
  {
   "cell_type": "markdown",
   "metadata": {},
   "source": [
    "### Graph the relative difference in cumulative average order size for group B compared with group A. Make conclusions and conjectures.\n"
   ]
  },
  {
   "cell_type": "code",
   "execution_count": 20,
   "metadata": {},
   "outputs": [],
   "source": [
    "# merge cumulative data\n",
    "\n",
    "mergedCumulativeData = cumulativeDataA.merge(cumulativeDataB, left_on='date', right_on='date', how='left', suffixes=['A', 'B'])"
   ]
  },
  {
   "cell_type": "code",
   "execution_count": 21,
   "metadata": {},
   "outputs": [
    {
     "data": {
      "text/html": [
       "<div>\n",
       "<style scoped>\n",
       "    .dataframe tbody tr th:only-of-type {\n",
       "        vertical-align: middle;\n",
       "    }\n",
       "\n",
       "    .dataframe tbody tr th {\n",
       "        vertical-align: top;\n",
       "    }\n",
       "\n",
       "    .dataframe thead th {\n",
       "        text-align: right;\n",
       "    }\n",
       "</style>\n",
       "<table border=\"1\" class=\"dataframe\">\n",
       "  <thead>\n",
       "    <tr style=\"text-align: right;\">\n",
       "      <th></th>\n",
       "      <th>date</th>\n",
       "      <th>groupA</th>\n",
       "      <th>revenueA</th>\n",
       "      <th>purchasesA</th>\n",
       "      <th>visitsA</th>\n",
       "      <th>cumul_revA</th>\n",
       "      <th>cumul_purchA</th>\n",
       "      <th>cumul_avpurA</th>\n",
       "      <th>groupB</th>\n",
       "      <th>revenueB</th>\n",
       "      <th>purchasesB</th>\n",
       "      <th>visitsB</th>\n",
       "      <th>cumul_revB</th>\n",
       "      <th>cumul_purchB</th>\n",
       "      <th>cumul_avpurB</th>\n",
       "    </tr>\n",
       "  </thead>\n",
       "  <tbody>\n",
       "    <tr>\n",
       "      <th>0</th>\n",
       "      <td>2019-08-01</td>\n",
       "      <td>A</td>\n",
       "      <td>2356.8</td>\n",
       "      <td>24</td>\n",
       "      <td>719</td>\n",
       "      <td>2356.8</td>\n",
       "      <td>24</td>\n",
       "      <td>98.200000</td>\n",
       "      <td>B</td>\n",
       "      <td>1620.0</td>\n",
       "      <td>21</td>\n",
       "      <td>713</td>\n",
       "      <td>1620.0</td>\n",
       "      <td>21</td>\n",
       "      <td>77.142857</td>\n",
       "    </tr>\n",
       "    <tr>\n",
       "      <th>1</th>\n",
       "      <td>2019-08-02</td>\n",
       "      <td>A</td>\n",
       "      <td>1503.5</td>\n",
       "      <td>20</td>\n",
       "      <td>619</td>\n",
       "      <td>3860.3</td>\n",
       "      <td>44</td>\n",
       "      <td>87.734091</td>\n",
       "      <td>B</td>\n",
       "      <td>2623.8</td>\n",
       "      <td>24</td>\n",
       "      <td>581</td>\n",
       "      <td>4243.8</td>\n",
       "      <td>45</td>\n",
       "      <td>94.306667</td>\n",
       "    </tr>\n",
       "    <tr>\n",
       "      <th>2</th>\n",
       "      <td>2019-08-03</td>\n",
       "      <td>A</td>\n",
       "      <td>1815.2</td>\n",
       "      <td>24</td>\n",
       "      <td>507</td>\n",
       "      <td>5675.5</td>\n",
       "      <td>68</td>\n",
       "      <td>83.463235</td>\n",
       "      <td>B</td>\n",
       "      <td>1806.8</td>\n",
       "      <td>16</td>\n",
       "      <td>509</td>\n",
       "      <td>6050.6</td>\n",
       "      <td>61</td>\n",
       "      <td>99.190164</td>\n",
       "    </tr>\n",
       "    <tr>\n",
       "      <th>3</th>\n",
       "      <td>2019-08-04</td>\n",
       "      <td>A</td>\n",
       "      <td>1146.6</td>\n",
       "      <td>16</td>\n",
       "      <td>717</td>\n",
       "      <td>6822.1</td>\n",
       "      <td>84</td>\n",
       "      <td>81.215476</td>\n",
       "      <td>B</td>\n",
       "      <td>1717.3</td>\n",
       "      <td>17</td>\n",
       "      <td>770</td>\n",
       "      <td>7767.9</td>\n",
       "      <td>78</td>\n",
       "      <td>99.588462</td>\n",
       "    </tr>\n",
       "    <tr>\n",
       "      <th>4</th>\n",
       "      <td>2019-08-05</td>\n",
       "      <td>A</td>\n",
       "      <td>1988.1</td>\n",
       "      <td>25</td>\n",
       "      <td>756</td>\n",
       "      <td>8810.2</td>\n",
       "      <td>109</td>\n",
       "      <td>80.827523</td>\n",
       "      <td>B</td>\n",
       "      <td>1495.0</td>\n",
       "      <td>23</td>\n",
       "      <td>707</td>\n",
       "      <td>9262.9</td>\n",
       "      <td>101</td>\n",
       "      <td>91.711881</td>\n",
       "    </tr>\n",
       "  </tbody>\n",
       "</table>\n",
       "</div>"
      ],
      "text/plain": [
       "        date groupA  revenueA  purchasesA  visitsA  cumul_revA  cumul_purchA  \\\n",
       "0 2019-08-01      A    2356.8          24      719      2356.8            24   \n",
       "1 2019-08-02      A    1503.5          20      619      3860.3            44   \n",
       "2 2019-08-03      A    1815.2          24      507      5675.5            68   \n",
       "3 2019-08-04      A    1146.6          16      717      6822.1            84   \n",
       "4 2019-08-05      A    1988.1          25      756      8810.2           109   \n",
       "\n",
       "   cumul_avpurA groupB  revenueB  purchasesB  visitsB  cumul_revB  \\\n",
       "0     98.200000      B    1620.0          21      713      1620.0   \n",
       "1     87.734091      B    2623.8          24      581      4243.8   \n",
       "2     83.463235      B    1806.8          16      509      6050.6   \n",
       "3     81.215476      B    1717.3          17      770      7767.9   \n",
       "4     80.827523      B    1495.0          23      707      9262.9   \n",
       "\n",
       "   cumul_purchB  cumul_avpurB  \n",
       "0            21     77.142857  \n",
       "1            45     94.306667  \n",
       "2            61     99.190164  \n",
       "3            78     99.588462  \n",
       "4           101     91.711881  "
      ]
     },
     "execution_count": 21,
     "metadata": {},
     "output_type": "execute_result"
    }
   ],
   "source": [
    "mergedCumulativeData.head()"
   ]
  },
  {
   "cell_type": "code",
   "execution_count": 22,
   "metadata": {
    "scrolled": false
   },
   "outputs": [
    {
     "data": {
      "image/png": "[encoded data removed]",
      "text/plain": [
       "<Figure size 1080x432 with 1 Axes>"
      ]
     },
     "metadata": {
      "needs_background": "light"
     },
     "output_type": "display_data"
    }
   ],
   "source": [
    "# visualize relative difference in cumulative average order size comparing groups\n",
    "\n",
    "plt.plot(cumulativeDataA['date'], cumulativeDataA['cumul_avpur'], label='A')\n",
    "plt.plot(cumulativeDataB['date'], cumulativeDataB['cumul_avpur'], label='B')\n",
    "plt.xticks(rotation=90)\n",
    "plt.legend() \n",
    "plt.title('Relative Difference in Cumulative Average Order Size Comparing Groups')\n",
    "plt.xlabel('Date')\n",
    "plt.ylabel('Cumulative Average order')\n",
    "plt.grid()\n",
    "plt.show()"
   ]
  },
  {
   "cell_type": "markdown",
   "metadata": {},
   "source": [
    ">* __there were two days where group A out performed group B in comulative average order size.__\n",
    "<br>\n",
    "\n",
    ">* __the most of the test group B performed better.__\n",
    "<br>\n",
    "\n",
    ">* __here we get another angel of the high peak in day 18 for group B, made by some big anamolies high orders, which influenced on group B's average cumulative average order size.__"
   ]
  },
  {
   "cell_type": "code",
   "execution_count": 23,
   "metadata": {},
   "outputs": [
    {
     "data": {
      "text/html": [
       "<div>\n",
       "<style scoped>\n",
       "    .dataframe tbody tr th:only-of-type {\n",
       "        vertical-align: middle;\n",
       "    }\n",
       "\n",
       "    .dataframe tbody tr th {\n",
       "        vertical-align: top;\n",
       "    }\n",
       "\n",
       "    .dataframe thead th {\n",
       "        text-align: right;\n",
       "    }\n",
       "</style>\n",
       "<table border=\"1\" class=\"dataframe\">\n",
       "  <thead>\n",
       "    <tr style=\"text-align: right;\">\n",
       "      <th></th>\n",
       "      <th>date</th>\n",
       "      <th>group</th>\n",
       "      <th>revenue</th>\n",
       "      <th>purchases</th>\n",
       "      <th>visits</th>\n",
       "    </tr>\n",
       "  </thead>\n",
       "  <tbody>\n",
       "    <tr>\n",
       "      <th>0</th>\n",
       "      <td>2019-08-01</td>\n",
       "      <td>A</td>\n",
       "      <td>2356.8</td>\n",
       "      <td>24</td>\n",
       "      <td>719</td>\n",
       "    </tr>\n",
       "    <tr>\n",
       "      <th>1</th>\n",
       "      <td>2019-08-02</td>\n",
       "      <td>A</td>\n",
       "      <td>1503.5</td>\n",
       "      <td>20</td>\n",
       "      <td>619</td>\n",
       "    </tr>\n",
       "    <tr>\n",
       "      <th>2</th>\n",
       "      <td>2019-08-03</td>\n",
       "      <td>A</td>\n",
       "      <td>1815.2</td>\n",
       "      <td>24</td>\n",
       "      <td>507</td>\n",
       "    </tr>\n",
       "    <tr>\n",
       "      <th>3</th>\n",
       "      <td>2019-08-04</td>\n",
       "      <td>A</td>\n",
       "      <td>1146.6</td>\n",
       "      <td>16</td>\n",
       "      <td>717</td>\n",
       "    </tr>\n",
       "    <tr>\n",
       "      <th>4</th>\n",
       "      <td>2019-08-05</td>\n",
       "      <td>A</td>\n",
       "      <td>1988.1</td>\n",
       "      <td>25</td>\n",
       "      <td>756</td>\n",
       "    </tr>\n",
       "  </tbody>\n",
       "</table>\n",
       "</div>"
      ],
      "text/plain": [
       "        date group  revenue  purchases  visits\n",
       "0 2019-08-01     A   2356.8         24     719\n",
       "1 2019-08-02     A   1503.5         20     619\n",
       "2 2019-08-03     A   1815.2         24     507\n",
       "3 2019-08-04     A   1146.6         16     717\n",
       "4 2019-08-05     A   1988.1         25     756"
      ]
     },
     "execution_count": 23,
     "metadata": {},
     "output_type": "execute_result"
    }
   ],
   "source": [
    "cumulativeData.head()"
   ]
  },
  {
   "cell_type": "code",
   "execution_count": 24,
   "metadata": {},
   "outputs": [
    {
     "data": {
      "image/png": "[encoded data removed]",
      "text/plain": [
       "<Figure size 1080x432 with 1 Axes>"
      ]
     },
     "metadata": {
      "needs_background": "light"
     },
     "output_type": "display_data"
    }
   ],
   "source": [
    "# visualize relative difference \n",
    "\n",
    "plt.plot(mergedCumulativeData['date'], mergedCumulativeData['cumul_purchB']/mergedCumulativeData['cumul_purchA']-1)\n",
    "plt.title('Relative Difference between groups A and B')\n",
    "plt.xlabel('Date')\n",
    "plt.ylabel('Difference')\n",
    "plt.grid()\n",
    "plt.axhline(y=0, color='black', linestyle='--')\n",
    "plt.show()"
   ]
  },
  {
   "cell_type": "markdown",
   "metadata": {},
   "source": [
    ">* __now with the relative difference graph we can see that group B cumulative average order size is higher then group A.__"
   ]
  },
  {
   "cell_type": "markdown",
   "metadata": {},
   "source": [
    "### Calculate each group's conversion rate as the ratio of orders to the number of visits for each day. Plot the daily conversion rates of the two groups and describe the difference. Draw conclusions and make conjectures."
   ]
  },
  {
   "cell_type": "code",
   "execution_count": 25,
   "metadata": {},
   "outputs": [
    {
     "name": "stderr",
     "output_type": "stream",
     "text": [
      "C:\\Users\\User\\AppData\\Local\\Temp/ipykernel_16740/2045981081.py:3: SettingWithCopyWarning: \n",
      "A value is trying to be set on a copy of a slice from a DataFrame.\n",
      "Try using .loc[row_indexer,col_indexer] = value instead\n",
      "\n",
      "See the caveats in the documentation: https://pandas.pydata.org/pandas-docs/stable/user_guide/indexing.html#returning-a-view-versus-a-copy\n",
      "  cumulativeDataA['conversion'] = cumulativeDataA['purchases'] / cumulativeDataA['visits']\n",
      "C:\\Users\\User\\AppData\\Local\\Temp/ipykernel_16740/2045981081.py:4: SettingWithCopyWarning: \n",
      "A value is trying to be set on a copy of a slice from a DataFrame.\n",
      "Try using .loc[row_indexer,col_indexer] = value instead\n",
      "\n",
      "See the caveats in the documentation: https://pandas.pydata.org/pandas-docs/stable/user_guide/indexing.html#returning-a-view-versus-a-copy\n",
      "  cumulativeDataB['conversion'] = cumulativeDataB['purchases'] / cumulativeDataB['visits']\n"
     ]
    }
   ],
   "source": [
    "# calculate each group's conversion rate\n",
    "\n",
    "cumulativeDataA['conversion'] = cumulativeDataA['purchases'] / cumulativeDataA['visits']\n",
    "cumulativeDataB['conversion'] = cumulativeDataB['purchases'] / cumulativeDataB['visits']"
   ]
  },
  {
   "cell_type": "code",
   "execution_count": 26,
   "metadata": {},
   "outputs": [
    {
     "data": {
      "image/png": "[encoded data removed]",
      "text/plain": [
       "<Figure size 1080x432 with 1 Axes>"
      ]
     },
     "metadata": {
      "needs_background": "light"
     },
     "output_type": "display_data"
    }
   ],
   "source": [
    "# visualize each group's conversion rate\n",
    "\n",
    "plt.plot(cumulativeDataA['date'], cumulativeDataA['conversion'], label='A')\n",
    "plt.plot(cumulativeDataB['date'], cumulativeDataB['conversion'], label='B')\n",
    "plt.title('Conversion Rate per Group')\n",
    "plt.xlabel('Date')\n",
    "plt.ylabel('Conversion Rate')\n",
    "plt.grid()\n",
    "plt.legend()\n",
    "plt.show()"
   ]
  },
  {
   "cell_type": "markdown",
   "metadata": {},
   "source": [
    ">* __this graph is very fluctuating, so its hard to conclude anything by it.__\n",
    "<br>\n",
    "\n",
    ">* __one thing that can be seen is that there were more days with higher conversion for group B then for group A.__"
   ]
  },
  {
   "cell_type": "code",
   "execution_count": 27,
   "metadata": {},
   "outputs": [
    {
     "data": {
      "image/png": "[encoded data removed]",
      "text/plain": [
       "<Figure size 1080x432 with 1 Axes>"
      ]
     },
     "metadata": {
      "needs_background": "light"
     },
     "output_type": "display_data"
    }
   ],
   "source": [
    "# merge conversion for both groups\n",
    "\n",
    "mergedCumulativeConversions = cumulativeDataA[['date','conversion']].merge(cumulativeDataB[['date','conversion']], left_on='date', right_on='date', how='left', suffixes=['A', 'B'])\n",
    "\n",
    "# visualize relative rifference between groups A and B\n",
    "\n",
    "plt.plot(mergedCumulativeConversions['date'], mergedCumulativeConversions['conversionB']/mergedCumulativeConversions['conversionA']-1)\n",
    "plt.grid()\n",
    "plt.title('Relative Difference between groups A and B')\n",
    "plt.xlabel('Date')\n",
    "plt.ylabel('Difference')\n",
    "plt.axhline(y=0, color='black', linestyle='--')\n",
    "plt.show()"
   ]
  },
  {
   "cell_type": "markdown",
   "metadata": {},
   "source": [
    ">* __the relative difference graph between groups conversion is still pretty fluctuating, but we can see that group B generally perforing better then group A.__\n",
    "<br>\n",
    "\n",
    ">* __interesting to see that difference has been stabilized in the last couple of days__"
   ]
  },
  {
   "cell_type": "markdown",
   "metadata": {},
   "source": [
    "### Plot a scatter chart of the number of orders per user. Make conclusions and conjectures.\n"
   ]
  },
  {
   "cell_type": "code",
   "execution_count": 28,
   "metadata": {},
   "outputs": [],
   "source": [
    "# get orders by user\n",
    "\n",
    "ordersByUser = orders.groupby(by='visitorId').agg({'transactionId': 'count'}).reset_index()\n",
    "ordersByUser = ordersByUser.rename(columns = {'transactionId': 'Npurchases'})"
   ]
  },
  {
   "cell_type": "code",
   "execution_count": 29,
   "metadata": {},
   "outputs": [
    {
     "data": {
      "image/png": "[encoded data removed]",
      "text/plain": [
       "<Figure size 1080x432 with 1 Axes>"
      ]
     },
     "metadata": {
      "needs_background": "light"
     },
     "output_type": "display_data"
    }
   ],
   "source": [
    "# visualize orders by user\n",
    "\n",
    "x_values = pd.Series(range(0, len(ordersByUser['Npurchases'])))\n",
    "plt.scatter(x_values, ordersByUser['Npurchases'])\n",
    "plt.title('Orders per User')\n",
    "plt.xlabel('Number Of users')\n",
    "plt.ylabel('Number of Orders')\n",
    "plt.grid()\n",
    "plt.show()"
   ]
  },
  {
   "cell_type": "markdown",
   "metadata": {},
   "source": [
    "### Calculate the 95th and 99th percentiles for the number of orders per user. Define the point at which a data point becomes an anomaly.\n"
   ]
  },
  {
   "cell_type": "code",
   "execution_count": 30,
   "metadata": {
    "scrolled": true
   },
   "outputs": [
    {
     "data": {
      "text/plain": [
       "array([1., 2., 4.])"
      ]
     },
     "execution_count": 30,
     "metadata": {},
     "output_type": "execute_result"
    }
   ],
   "source": [
    "# calculate the 95th and 99th percentiles\n",
    "\n",
    "np.percentile(ordersByUser['Npurchases'], [90, 95, 99])"
   ]
  },
  {
   "cell_type": "code",
   "execution_count": 31,
   "metadata": {},
   "outputs": [
    {
     "data": {
      "text/html": [
       "<div>\n",
       "<style scoped>\n",
       "    .dataframe tbody tr th:only-of-type {\n",
       "        vertical-align: middle;\n",
       "    }\n",
       "\n",
       "    .dataframe tbody tr th {\n",
       "        vertical-align: top;\n",
       "    }\n",
       "\n",
       "    .dataframe thead th {\n",
       "        text-align: right;\n",
       "    }\n",
       "</style>\n",
       "<table border=\"1\" class=\"dataframe\">\n",
       "  <thead>\n",
       "    <tr style=\"text-align: right;\">\n",
       "      <th></th>\n",
       "      <th>visitorId</th>\n",
       "      <th>Npurchases</th>\n",
       "    </tr>\n",
       "  </thead>\n",
       "  <tbody>\n",
       "    <tr>\n",
       "      <th>0</th>\n",
       "      <td>8300375</td>\n",
       "      <td>1</td>\n",
       "    </tr>\n",
       "    <tr>\n",
       "      <th>1</th>\n",
       "      <td>11685486</td>\n",
       "      <td>1</td>\n",
       "    </tr>\n",
       "    <tr>\n",
       "      <th>2</th>\n",
       "      <td>54447517</td>\n",
       "      <td>1</td>\n",
       "    </tr>\n",
       "    <tr>\n",
       "      <th>3</th>\n",
       "      <td>66685450</td>\n",
       "      <td>1</td>\n",
       "    </tr>\n",
       "    <tr>\n",
       "      <th>4</th>\n",
       "      <td>78758296</td>\n",
       "      <td>1</td>\n",
       "    </tr>\n",
       "    <tr>\n",
       "      <th>...</th>\n",
       "      <td>...</td>\n",
       "      <td>...</td>\n",
       "    </tr>\n",
       "    <tr>\n",
       "      <th>498</th>\n",
       "      <td>4243832526</td>\n",
       "      <td>1</td>\n",
       "    </tr>\n",
       "    <tr>\n",
       "      <th>499</th>\n",
       "      <td>4256040402</td>\n",
       "      <td>7</td>\n",
       "    </tr>\n",
       "    <tr>\n",
       "      <th>500</th>\n",
       "      <td>4259830713</td>\n",
       "      <td>1</td>\n",
       "    </tr>\n",
       "    <tr>\n",
       "      <th>501</th>\n",
       "      <td>4266935830</td>\n",
       "      <td>1</td>\n",
       "    </tr>\n",
       "    <tr>\n",
       "      <th>502</th>\n",
       "      <td>4278982564</td>\n",
       "      <td>1</td>\n",
       "    </tr>\n",
       "  </tbody>\n",
       "</table>\n",
       "<p>503 rows × 2 columns</p>\n",
       "</div>"
      ],
      "text/plain": [
       "      visitorId  Npurchases\n",
       "0       8300375           1\n",
       "1      11685486           1\n",
       "2      54447517           1\n",
       "3      66685450           1\n",
       "4      78758296           1\n",
       "..          ...         ...\n",
       "498  4243832526           1\n",
       "499  4256040402           7\n",
       "500  4259830713           1\n",
       "501  4266935830           1\n",
       "502  4278982564           1\n",
       "\n",
       "[503 rows x 2 columns]"
      ]
     },
     "execution_count": 31,
     "metadata": {},
     "output_type": "execute_result"
    }
   ],
   "source": [
    "# get orders per user per group\n",
    "\n",
    "ordersByUserA = orders[orders['group'] == 'A'].groupby(by='visitorId').agg({'transactionId': 'count'}).reset_index()\n",
    "ordersByUserB = orders[orders['group'] == 'B'].groupby(by='visitorId').agg({'transactionId': 'count'}).reset_index()\n",
    "ordersByUserA = ordersByUserA.rename(columns = {'transactionId': 'Npurchases'})\n",
    "ordersByUserB = ordersByUserB.rename(columns = {'transactionId': 'Npurchases'})\n",
    "ordersByUserA"
   ]
  },
  {
   "cell_type": "code",
   "execution_count": 32,
   "metadata": {},
   "outputs": [
    {
     "data": {
      "text/plain": [
       "18      199603092\n",
       "23      237748145\n",
       "68      611059232\n",
       "146    1230306981\n",
       "189    1614305549\n",
       "227    2038680547\n",
       "237    2108163459\n",
       "269    2378935119\n",
       "278    2458001652\n",
       "349    2988190573\n",
       "456    3908431265\n",
       "467    3967698036\n",
       "499    4256040402\n",
       "37      249864742\n",
       "68      457167155\n",
       "284    2038680547\n",
       "326    2378935119\n",
       "340    2458001652\n",
       "360    2587333274\n",
       "382    2742574263\n",
       "424    3062433592\n",
       "501    3717692402\n",
       "514    3803269165\n",
       "580    4256040402\n",
       "Name: visitorId, dtype: int64"
      ]
     },
     "execution_count": 32,
     "metadata": {},
     "output_type": "execute_result"
    }
   ],
   "source": [
    "# find anamolies and they're id\n",
    "\n",
    "usersWithManyOrders = pd.concat([ordersByUserA[ordersByUserA['Npurchases'] > 2]['visitorId'], ordersByUserB[ordersByUserB['Npurchases'] > 2]['visitorId']], axis = 0)\n",
    "usersWithManyOrders"
   ]
  },
  {
   "cell_type": "markdown",
   "metadata": {},
   "source": [
    ">* __there were few users who made many purchases, and are anamolies to this test, so we will have to define them.__\n",
    "<br>\n",
    "\n",
    ">* __i defined the number of orders per user to become an anamilie as 2, which was the 95% percentile.__"
   ]
  },
  {
   "cell_type": "markdown",
   "metadata": {},
   "source": [
    "### Plot a scatter chart of order prices. Make conclusions and conjectures.\n"
   ]
  },
  {
   "cell_type": "code",
   "execution_count": 33,
   "metadata": {
    "scrolled": false
   },
   "outputs": [
    {
     "data": {
      "image/png": "[encoded data removed]",
      "text/plain": [
       "<Figure size 1080x432 with 1 Axes>"
      ]
     },
     "metadata": {
      "needs_background": "light"
     },
     "output_type": "display_data"
    }
   ],
   "source": [
    "# visualize order prices\n",
    "\n",
    "x_values = pd.Series(range(0, len(orders['revenue'])))\n",
    "plt.scatter(x_values, orders['revenue'])\n",
    "plt.title('Orders Prices')\n",
    "plt.xlabel('Number Of Orders')\n",
    "plt.ylabel('Price')\n",
    "plt.grid()\n",
    "plt.show()"
   ]
  },
  {
   "cell_type": "markdown",
   "metadata": {},
   "source": [
    "### Calculate the 95th and 99th percentiles of order prices. Define the point at which a data point becomes an anomaly.\n"
   ]
  },
  {
   "cell_type": "code",
   "execution_count": 34,
   "metadata": {},
   "outputs": [
    {
     "data": {
      "text/plain": [
       "array([282.48 , 435.54 , 900.904])"
      ]
     },
     "execution_count": 34,
     "metadata": {},
     "output_type": "execute_result"
    }
   ],
   "source": [
    "# calculate the 95th and 99th percentiles\n",
    "\n",
    "np.percentile(orders['revenue'], [90, 95, 99])"
   ]
  },
  {
   "cell_type": "code",
   "execution_count": 35,
   "metadata": {},
   "outputs": [],
   "source": [
    "# get anamolies\n",
    "\n",
    "usersWithExpensiveOrders = orders[orders['revenue'] > 500]['visitorId']"
   ]
  },
  {
   "cell_type": "code",
   "execution_count": 36,
   "metadata": {},
   "outputs": [],
   "source": [
    "# merging analomies users\n",
    "\n",
    "abnormalUsers = pd.concat([usersWithManyOrders, usersWithExpensiveOrders], axis = 0).drop_duplicates().sort_values()"
   ]
  },
  {
   "cell_type": "markdown",
   "metadata": {},
   "source": [
    ">* __i defined the price of an order to become an anamolie as 500, a rounding version of the 95% percentile which was 435.__"
   ]
  },
  {
   "cell_type": "markdown",
   "metadata": {},
   "source": [
    "### Find the statistical significance of the difference in conversion between the groups using the raw data. Make conclusions and conjectures.\n"
   ]
  },
  {
   "cell_type": "markdown",
   "metadata": {},
   "source": [
    ">* __H0 (Null): using the raw data, the conversion of both groups is the same.__\n",
    "<br>\n",
    "\n",
    ">* __H1 (Alternative): using the raw data, there is a difference in conversion between the groups.__"
   ]
  },
  {
   "cell_type": "code",
   "execution_count": 37,
   "metadata": {
    "scrolled": true
   },
   "outputs": [
    {
     "name": "stdout",
     "output_type": "stream",
     "text": [
      "Trials: 18916\n",
      "Successes: 640\n"
     ]
    }
   ],
   "source": [
    "# get group B trials and successes\n",
    "\n",
    "groupB_trials = cumulativeDataB['visits'].sum()\n",
    "print(\"Trials:\",groupB_trials)\n",
    "groupB_successes = cumulativeDataB['purchases'].sum()\n",
    "print(\"Successes:\",groupB_successes)"
   ]
  },
  {
   "cell_type": "code",
   "execution_count": 38,
   "metadata": {
    "scrolled": true
   },
   "outputs": [
    {
     "name": "stdout",
     "output_type": "stream",
     "text": [
      "Trials: 18736\n",
      "Successes: 557\n"
     ]
    }
   ],
   "source": [
    "# get group A trials and successes\n",
    "\n",
    "groupA_trials = cumulativeDataA['visits'].sum()\n",
    "print(\"Trials:\",groupA_trials)\n",
    "groupA_successes = cumulativeDataA['purchases'].sum()\n",
    "print(\"Successes:\",groupA_successes)"
   ]
  },
  {
   "cell_type": "code",
   "execution_count": 39,
   "metadata": {},
   "outputs": [
    {
     "name": "stdout",
     "output_type": "stream",
     "text": [
      "p-value:  0.023\n"
     ]
    }
   ],
   "source": [
    "# the fast way - statistical significance of the difference in conversion between the groups\n",
    "\n",
    "stat, pval = proportions_ztest([groupA_successes,groupB_successes], [groupA_trials,groupB_trials])\n",
    "print('p-value: ', '{0:0.3f}'.format(pval))"
   ]
  },
  {
   "cell_type": "code",
   "execution_count": 40,
   "metadata": {},
   "outputs": [],
   "source": [
    "# the explaining way - statistical significance of the difference in conversion between the groups\n",
    "\n",
    "def check_hypothesis(successes1,trials1, successes2,trials2, alpha=0.05):\n",
    "    #proportion for success in the first group\n",
    "    p1 = successes1/trials1\n",
    "\n",
    "   #proportion for success in the second group\n",
    "    p2 = successes2/trials2\n",
    "    p_combined = (successes1 + successes2) / (trials1 + trials2)\n",
    "\n",
    "  \n",
    "    difference = p1 - p2\n",
    "    \n",
    "    \n",
    "    z_value = difference / math.sqrt(p_combined * (1 - p_combined) * (1/trials1 + 1/trials2))\n",
    "\n",
    "  \n",
    "    distr = stats.norm(0, 1) \n",
    "\n",
    "\n",
    "    p_value = round((1 - distr.cdf(abs(z_value))) * 2, 3)\n",
    "\n",
    "    print('p-value: ', p_value)\n",
    "    if p_value<alpha:\n",
    "        print('Reject H0')\n",
    "    else:\n",
    "        print('Fail to Reject H0')\n",
    "     "
   ]
  },
  {
   "cell_type": "code",
   "execution_count": 41,
   "metadata": {
    "scrolled": true
   },
   "outputs": [
    {
     "name": "stdout",
     "output_type": "stream",
     "text": [
      "p-value:  0.023\n",
      "Reject H0\n"
     ]
    }
   ],
   "source": [
    "check_hypothesis(groupA_successes,groupA_trials, groupB_successes,groupB_trials, alpha=0.05)"
   ]
  },
  {
   "cell_type": "markdown",
   "metadata": {},
   "source": [
    ">* __we reject the null hypothesis that there is no difference between conversion of the groups, but to we will have to re-check with the filtered data, without the anamolies.__"
   ]
  },
  {
   "cell_type": "markdown",
   "metadata": {},
   "source": [
    "### Find the statistical significance of the difference in average order size between the groups using the raw data. Make conclusions and conjectures.\n"
   ]
  },
  {
   "cell_type": "markdown",
   "metadata": {},
   "source": [
    ">* __H0 (Null): using the raw data, the average size of both groups is the same.__\n",
    "<br>\n",
    "\n",
    ">* __H1 (Alternative):  using the raw data, there is a difference in average size between the groups.__"
   ]
  },
  {
   "cell_type": "code",
   "execution_count": 42,
   "metadata": {},
   "outputs": [],
   "source": [
    "# statistical significance of the difference in average order size between the groups\n",
    "\n",
    "def testing_average(sample1,sample2,alpha=0.05):\n",
    "    \n",
    "    sample1=sample1.dropna()\n",
    "    sample2=sample2.dropna()\n",
    "    stat1, p1_norm=stats.shapiro(sample1)\n",
    "    stat2, p2_norm=stats.shapiro(sample2)\n",
    "    if p1_norm > alpha and p2_norm>alpha:\n",
    "        \n",
    "        statslev,p_levene=stats.levene(sample1, sample2)\n",
    "        if p_levene<alpha:\n",
    "          \n",
    "            statist,p_value=stats.ttest_ind(sample1, sample2,equal_var=False)\n",
    "        else:\n",
    "            statist,p_value=stats.ttest_ind(sample1, sample2,equal_var=True) \n",
    "    else:\n",
    "        statist,p_value=stats.mannwhitneyu(sample1, sample2)\n",
    "    print(round(p_value, 3))\n",
    "    if p_value<alpha:\n",
    "        print('Reject H0')\n",
    "    else:\n",
    "        print('Fail to Reject H0')"
   ]
  },
  {
   "cell_type": "code",
   "execution_count": 43,
   "metadata": {},
   "outputs": [
    {
     "name": "stdout",
     "output_type": "stream",
     "text": [
      "0.092\n",
      "Fail to Reject H0\n"
     ]
    }
   ],
   "source": [
    "testing_average(cumulativeDataB['conversion'],cumulativeDataA['conversion'], alpha=0.05)"
   ]
  },
  {
   "cell_type": "markdown",
   "metadata": {},
   "source": [
    ">* __we cant reject the null hypothesis that there is a difference between average order size between the groups, but to we will have to re-check with the filtered data, without the anamolies.__"
   ]
  },
  {
   "cell_type": "markdown",
   "metadata": {},
   "source": [
    "### Find the statistical significance of the difference in conversion between the groups using the filtered data. Make conclusions and conjectures.\n"
   ]
  },
  {
   "cell_type": "markdown",
   "metadata": {},
   "source": [
    ">* __H0 (Null): using the filtered data, the conversion of both groups is the same.__\n",
    "<br>\n",
    "\n",
    ">* __H1 (Alternative): using the filtered data, there is a difference in conversion between the groups.__"
   ]
  },
  {
   "cell_type": "code",
   "execution_count": 44,
   "metadata": {},
   "outputs": [],
   "source": [
    "# filter data from anamilies\n",
    "\n",
    "orders_new = orders[~orders['visitorId'].isin(abnormalUsers)]"
   ]
  },
  {
   "cell_type": "code",
   "execution_count": 45,
   "metadata": {},
   "outputs": [],
   "source": [
    "# get revenue and number of orders per day for new data\n",
    "\n",
    "aggOrdersNew = orders_new.groupby(['date', 'group']).agg({'revenue': 'sum', 'transactionId': 'count'}).reset_index().sort_values(by=['group', 'date'])"
   ]
  },
  {
   "cell_type": "code",
   "execution_count": 46,
   "metadata": {},
   "outputs": [],
   "source": [
    "# merge aggorders with visits\n",
    "\n",
    "cumulativeDataNew = aggOrdersNew.merge(visits, left_on=['date', 'group'], right_on=['date', 'group'])"
   ]
  },
  {
   "cell_type": "code",
   "execution_count": 47,
   "metadata": {},
   "outputs": [],
   "source": [
    "# rename column\n",
    "\n",
    "cumulativeDataNew = cumulativeDataNew.rename(columns={'transactionId': 'purchases'})"
   ]
  },
  {
   "cell_type": "code",
   "execution_count": 48,
   "metadata": {},
   "outputs": [],
   "source": [
    "# devide by groups\n",
    "\n",
    "cumulativeDataNewB = cumulativeDataNew[cumulativeDataNew['group'] == 'B']\n",
    "cumulativeDataNewA = cumulativeDataNew[cumulativeDataNew['group'] == 'A']"
   ]
  },
  {
   "cell_type": "code",
   "execution_count": 49,
   "metadata": {},
   "outputs": [
    {
     "name": "stderr",
     "output_type": "stream",
     "text": [
      "C:\\Users\\User\\AppData\\Local\\Temp/ipykernel_16740/1798491840.py:3: SettingWithCopyWarning: \n",
      "A value is trying to be set on a copy of a slice from a DataFrame.\n",
      "Try using .loc[row_indexer,col_indexer] = value instead\n",
      "\n",
      "See the caveats in the documentation: https://pandas.pydata.org/pandas-docs/stable/user_guide/indexing.html#returning-a-view-versus-a-copy\n",
      "  cumulativeDataNewA['conversion'] = cumulativeDataNewA['purchases'] / cumulativeDataNewA['visits']\n",
      "C:\\Users\\User\\AppData\\Local\\Temp/ipykernel_16740/1798491840.py:4: SettingWithCopyWarning: \n",
      "A value is trying to be set on a copy of a slice from a DataFrame.\n",
      "Try using .loc[row_indexer,col_indexer] = value instead\n",
      "\n",
      "See the caveats in the documentation: https://pandas.pydata.org/pandas-docs/stable/user_guide/indexing.html#returning-a-view-versus-a-copy\n",
      "  cumulativeDataNewB['conversion'] = cumulativeDataNewB['purchases'] / cumulativeDataNewB['visits']\n"
     ]
    }
   ],
   "source": [
    "# get cvonversion per group\n",
    "\n",
    "cumulativeDataNewA['conversion'] = cumulativeDataNewA['purchases'] / cumulativeDataNewA['visits']\n",
    "cumulativeDataNewB['conversion'] = cumulativeDataNewB['purchases'] / cumulativeDataNewB['visits']"
   ]
  },
  {
   "cell_type": "code",
   "execution_count": 50,
   "metadata": {},
   "outputs": [
    {
     "name": "stdout",
     "output_type": "stream",
     "text": [
      "Trials: 18916\n",
      "Successes: 570\n"
     ]
    }
   ],
   "source": [
    "# get group B trials and successes\n",
    "\n",
    "newGroupB_trials = cumulativeDataNewB['visits'].sum()\n",
    "print(\"Trials:\",newGroupB_trials)\n",
    "newGroupB_successes = cumulativeDataNewB['purchases'].sum()\n",
    "print(\"Successes:\",newGroupB_successes)"
   ]
  },
  {
   "cell_type": "code",
   "execution_count": 51,
   "metadata": {},
   "outputs": [
    {
     "name": "stdout",
     "output_type": "stream",
     "text": [
      "Trials: 18736\n",
      "Successes: 479\n"
     ]
    }
   ],
   "source": [
    "# get group A trials and successes\n",
    "\n",
    "newGroupA_trials = cumulativeDataNewA['visits'].sum()\n",
    "print(\"Trials:\",newGroupA_trials)\n",
    "newGroupA_successes = cumulativeDataNewA['purchases'].sum()\n",
    "print(\"Successes:\",newGroupA_successes)"
   ]
  },
  {
   "cell_type": "code",
   "execution_count": 52,
   "metadata": {},
   "outputs": [
    {
     "name": "stdout",
     "output_type": "stream",
     "text": [
      "0.007\n"
     ]
    }
   ],
   "source": [
    "# the fast way - statistical significance of the difference in conversion between the groups\n",
    "\n",
    "stat, pval = proportions_ztest([newGroupA_successes,newGroupB_successes], [newGroupA_trials,newGroupB_trials])\n",
    "print('{0:0.3f}'.format(pval))"
   ]
  },
  {
   "cell_type": "code",
   "execution_count": 53,
   "metadata": {
    "scrolled": true
   },
   "outputs": [
    {
     "name": "stdout",
     "output_type": "stream",
     "text": [
      "p-value:  0.007\n",
      "Reject H0\n"
     ]
    }
   ],
   "source": [
    "# function- statistical significance of the difference in conversion between the groups\n",
    "\n",
    "\n",
    "check_hypothesis(newGroupA_successes,newGroupA_trials, newGroupB_successes,newGroupB_trials, alpha=0.05)"
   ]
  },
  {
   "cell_type": "markdown",
   "metadata": {},
   "source": [
    ">* __we reject the null hypothesis that there is no difference between conversion of the groups.__"
   ]
  },
  {
   "cell_type": "markdown",
   "metadata": {},
   "source": [
    "### Find the statistical significance of the difference in average order size between the groups using the filtered data. Make conclusions and conjectures.\n"
   ]
  },
  {
   "cell_type": "markdown",
   "metadata": {},
   "source": [
    ">* __H0 (Null): using the filtered data, the average size of both groups is the same.__\n",
    "<br>\n",
    "\n",
    ">* __H1 (Alternative): using the filtered data, there is a difference in average size between the groups.__"
   ]
  },
  {
   "cell_type": "code",
   "execution_count": 54,
   "metadata": {},
   "outputs": [
    {
     "name": "stdout",
     "output_type": "stream",
     "text": [
      "0.024\n",
      "Reject H0\n"
     ]
    }
   ],
   "source": [
    "# statistical significance of the difference in average order size between the groups\n",
    "\n",
    "testing_average(cumulativeDataNewB['conversion'],cumulativeDataNewA['conversion'], alpha=0.05)"
   ]
  },
  {
   "cell_type": "markdown",
   "metadata": {},
   "source": [
    ">* __after re-checking with the filtered data,we can reject the null hypothesis that there is a difference between average order size between the groups.__\n",
    "<br>\n",
    "\n",
    ">* __there is a difference between average order size between the groups.__"
   ]
  },
  {
   "cell_type": "markdown",
   "metadata": {},
   "source": [
    "## Conclusion"
   ]
  },
  {
   "cell_type": "markdown",
   "metadata": {},
   "source": [
    ">* __after performing a full A\\B test, and after considering anamolies and testing without them as well, i can conclude that group B brought higher conversion and higher average purchase size, and we can stop the test and declaring group B as a winner.__"
   ]
  },
  {
   "cell_type": "code",
   "execution_count": null,
   "metadata": {},
   "outputs": [],
   "source": []
  }
 ],
 "metadata": {
  "ExecuteTimeLog": [
   {
    "duration": 194,
    "start_time": "2022-04-07T06:28:18.310Z"
   },
   {
    "duration": 50,
    "start_time": "2022-04-07T06:28:33.267Z"
   },
   {
    "duration": 912,
    "start_time": "2022-04-07T06:28:36.616Z"
   },
   {
    "duration": 97,
    "start_time": "2022-04-07T06:28:37.530Z"
   },
   {
    "duration": 41,
    "start_time": "2022-04-07T06:28:44.404Z"
   },
   {
    "duration": 141,
    "start_time": "2022-04-07T06:29:01.631Z"
   },
   {
    "duration": 13,
    "start_time": "2022-04-07T06:29:04.186Z"
   },
   {
    "duration": 7,
    "start_time": "2022-04-07T06:29:50.921Z"
   },
   {
    "duration": 5,
    "start_time": "2022-04-07T06:29:59.325Z"
   },
   {
    "duration": 57,
    "start_time": "2022-04-07T12:33:03.405Z"
   },
   {
    "duration": 845,
    "start_time": "2022-04-07T12:33:06.958Z"
   },
   {
    "duration": 85,
    "start_time": "2022-04-07T12:33:07.806Z"
   },
   {
    "duration": 12,
    "start_time": "2022-04-07T12:33:12.027Z"
   },
   {
    "duration": 43,
    "start_time": "2022-04-07T12:33:48.540Z"
   },
   {
    "duration": 7,
    "start_time": "2022-04-07T12:34:24.927Z"
   },
   {
    "duration": 4,
    "start_time": "2022-04-07T12:34:28.788Z"
   },
   {
    "duration": 11,
    "start_time": "2022-04-07T12:34:49.490Z"
   },
   {
    "duration": 6,
    "start_time": "2022-04-07T12:34:55.239Z"
   },
   {
    "duration": 0,
    "start_time": "2022-04-07T12:35:22.893Z"
   },
   {
    "duration": 2361,
    "start_time": "2022-04-07T12:35:41.133Z"
   },
   {
    "duration": 2372,
    "start_time": "2022-04-07T12:35:44.126Z"
   },
   {
    "duration": 102,
    "start_time": "2022-04-07T12:37:24.891Z"
   },
   {
    "duration": 2482,
    "start_time": "2022-04-07T12:37:27.214Z"
   },
   {
    "duration": 2384,
    "start_time": "2022-04-07T12:37:38.156Z"
   },
   {
    "duration": 7,
    "start_time": "2022-04-07T12:37:41.772Z"
   },
   {
    "duration": 2614,
    "start_time": "2022-04-07T12:37:48.932Z"
   },
   {
    "duration": 2304,
    "start_time": "2022-04-07T12:38:05.333Z"
   },
   {
    "duration": 9,
    "start_time": "2022-04-07T12:38:17.616Z"
   },
   {
    "duration": 2440,
    "start_time": "2022-04-07T12:38:31.735Z"
   },
   {
    "duration": 7,
    "start_time": "2022-04-07T12:38:43.791Z"
   },
   {
    "duration": 7,
    "start_time": "2022-04-07T12:39:00.116Z"
   },
   {
    "duration": 5,
    "start_time": "2022-04-07T12:39:08.875Z"
   },
   {
    "duration": 664,
    "start_time": "2022-04-07T12:40:05.391Z"
   },
   {
    "duration": 6,
    "start_time": "2022-04-07T12:47:19.009Z"
   },
   {
    "duration": 107,
    "start_time": "2022-04-07T12:47:59.840Z"
   },
   {
    "duration": 9,
    "start_time": "2022-04-07T12:48:00.517Z"
   },
   {
    "duration": 10,
    "start_time": "2022-04-07T12:48:20.238Z"
   },
   {
    "duration": 16,
    "start_time": "2022-04-07T12:48:31.545Z"
   },
   {
    "duration": 12,
    "start_time": "2022-04-07T12:48:41.262Z"
   },
   {
    "duration": 12,
    "start_time": "2022-04-07T12:48:59.999Z"
   },
   {
    "duration": 11,
    "start_time": "2022-04-07T12:49:12.641Z"
   },
   {
    "duration": 13,
    "start_time": "2022-04-07T12:49:22.361Z"
   },
   {
    "duration": 789,
    "start_time": "2022-04-07T12:51:18.635Z"
   },
   {
    "duration": 3,
    "start_time": "2022-04-07T12:53:03.826Z"
   },
   {
    "duration": 13,
    "start_time": "2022-04-07T12:53:06.997Z"
   },
   {
    "duration": 11,
    "start_time": "2022-04-07T12:53:11.571Z"
   },
   {
    "duration": 138,
    "start_time": "2022-04-07T12:53:58.661Z"
   },
   {
    "duration": 11,
    "start_time": "2022-04-07T12:54:03.932Z"
   },
   {
    "duration": 8,
    "start_time": "2022-04-07T12:54:23.392Z"
   },
   {
    "duration": 4,
    "start_time": "2022-04-07T12:54:34.738Z"
   },
   {
    "duration": 12,
    "start_time": "2022-04-07T12:54:44.213Z"
   },
   {
    "duration": 11,
    "start_time": "2022-04-07T12:54:49.483Z"
   },
   {
    "duration": 8,
    "start_time": "2022-04-07T12:55:28.698Z"
   },
   {
    "duration": 2525,
    "start_time": "2022-04-07T13:04:05.888Z"
   },
   {
    "duration": 2414,
    "start_time": "2022-04-07T13:04:29.320Z"
   },
   {
    "duration": 14,
    "start_time": "2022-04-07T13:04:39.749Z"
   },
   {
    "duration": 9,
    "start_time": "2022-04-07T13:04:56.912Z"
   },
   {
    "duration": 11,
    "start_time": "2022-04-07T13:05:03.861Z"
   },
   {
    "duration": 10,
    "start_time": "2022-04-07T13:17:12.432Z"
   },
   {
    "duration": 11,
    "start_time": "2022-04-07T13:17:20.669Z"
   },
   {
    "duration": 67,
    "start_time": "2022-04-07T14:27:51.495Z"
   },
   {
    "duration": 1073,
    "start_time": "2022-04-07T14:28:00.751Z"
   },
   {
    "duration": 94,
    "start_time": "2022-04-07T14:28:01.828Z"
   },
   {
    "duration": 19,
    "start_time": "2022-04-07T14:28:01.924Z"
   },
   {
    "duration": 12,
    "start_time": "2022-04-07T14:28:01.946Z"
   },
   {
    "duration": 23,
    "start_time": "2022-04-07T14:28:01.960Z"
   },
   {
    "duration": 15,
    "start_time": "2022-04-07T14:28:01.985Z"
   },
   {
    "duration": 11,
    "start_time": "2022-04-07T14:28:02.002Z"
   },
   {
    "duration": 15,
    "start_time": "2022-04-07T14:28:10.682Z"
   },
   {
    "duration": 121,
    "start_time": "2022-04-07T14:56:56.667Z"
   },
   {
    "duration": 397,
    "start_time": "2022-04-07T14:57:28.401Z"
   },
   {
    "duration": 23,
    "start_time": "2022-04-07T14:59:13.408Z"
   },
   {
    "duration": 903,
    "start_time": "2022-04-07T14:59:32.661Z"
   },
   {
    "duration": 90,
    "start_time": "2022-04-07T14:59:33.568Z"
   },
   {
    "duration": 20,
    "start_time": "2022-04-07T14:59:33.660Z"
   },
   {
    "duration": 7,
    "start_time": "2022-04-07T14:59:33.684Z"
   },
   {
    "duration": 24,
    "start_time": "2022-04-07T14:59:33.693Z"
   },
   {
    "duration": 15,
    "start_time": "2022-04-07T14:59:33.719Z"
   },
   {
    "duration": 9,
    "start_time": "2022-04-07T14:59:33.768Z"
   },
   {
    "duration": 144,
    "start_time": "2022-04-07T14:59:33.779Z"
   },
   {
    "duration": 13,
    "start_time": "2022-04-07T15:00:00.082Z"
   },
   {
    "duration": 291,
    "start_time": "2022-04-07T15:00:18.852Z"
   },
   {
    "duration": 18,
    "start_time": "2022-04-07T15:00:25.842Z"
   },
   {
    "duration": 10,
    "start_time": "2022-04-07T15:01:34.316Z"
   },
   {
    "duration": 303,
    "start_time": "2022-04-07T15:01:49.880Z"
   },
   {
    "duration": 316,
    "start_time": "2022-04-07T15:02:00.114Z"
   },
   {
    "duration": 459,
    "start_time": "2022-04-07T15:02:15.565Z"
   },
   {
    "duration": 458,
    "start_time": "2022-04-07T15:02:20.134Z"
   },
   {
    "duration": 455,
    "start_time": "2022-04-07T15:02:22.530Z"
   },
   {
    "duration": 27,
    "start_time": "2022-04-07T15:03:56.274Z"
   },
   {
    "duration": 807,
    "start_time": "2022-04-07T15:04:53.239Z"
   },
   {
    "duration": 82,
    "start_time": "2022-04-07T15:04:54.050Z"
   },
   {
    "duration": 18,
    "start_time": "2022-04-07T15:04:54.134Z"
   },
   {
    "duration": 6,
    "start_time": "2022-04-07T15:04:54.155Z"
   },
   {
    "duration": 22,
    "start_time": "2022-04-07T15:04:54.163Z"
   },
   {
    "duration": 20,
    "start_time": "2022-04-07T15:04:54.187Z"
   },
   {
    "duration": 15,
    "start_time": "2022-04-07T15:04:54.210Z"
   },
   {
    "duration": 9,
    "start_time": "2022-04-07T15:04:54.228Z"
   },
   {
    "duration": 498,
    "start_time": "2022-04-07T15:04:54.239Z"
   },
   {
    "duration": 37,
    "start_time": "2022-04-07T15:04:54.740Z"
   },
   {
    "duration": 372,
    "start_time": "2022-04-07T15:06:36.642Z"
   },
   {
    "duration": 378,
    "start_time": "2022-04-07T15:06:43.891Z"
   },
   {
    "duration": 331,
    "start_time": "2022-04-07T15:07:27.572Z"
   },
   {
    "duration": 312,
    "start_time": "2022-04-07T15:07:54.981Z"
   },
   {
    "duration": 256,
    "start_time": "2022-04-07T15:08:31.253Z"
   },
   {
    "duration": 238,
    "start_time": "2022-04-07T15:13:24.629Z"
   },
   {
    "duration": 1098,
    "start_time": "2022-04-08T08:04:32.150Z"
   },
   {
    "duration": 80,
    "start_time": "2022-04-08T08:04:33.250Z"
   },
   {
    "duration": 19,
    "start_time": "2022-04-08T08:04:33.332Z"
   },
   {
    "duration": 10,
    "start_time": "2022-04-08T08:04:33.354Z"
   },
   {
    "duration": 22,
    "start_time": "2022-04-08T08:04:33.366Z"
   },
   {
    "duration": 15,
    "start_time": "2022-04-08T08:04:33.390Z"
   },
   {
    "duration": 11,
    "start_time": "2022-04-08T08:04:33.407Z"
   },
   {
    "duration": 9,
    "start_time": "2022-04-08T08:04:33.420Z"
   },
   {
    "duration": 561,
    "start_time": "2022-04-08T08:04:33.431Z"
   },
   {
    "duration": 10,
    "start_time": "2022-04-08T08:04:33.996Z"
   },
   {
    "duration": 431,
    "start_time": "2022-04-08T08:04:34.010Z"
   },
   {
    "duration": 262,
    "start_time": "2022-04-08T08:04:34.444Z"
   },
   {
    "duration": 8,
    "start_time": "2022-04-08T08:09:41.250Z"
   },
   {
    "duration": 5,
    "start_time": "2022-04-08T08:09:42.421Z"
   },
   {
    "duration": 770,
    "start_time": "2022-04-08T08:09:48.617Z"
   },
   {
    "duration": 77,
    "start_time": "2022-04-08T08:09:49.390Z"
   },
   {
    "duration": 7,
    "start_time": "2022-04-08T08:09:49.470Z"
   },
   {
    "duration": 8,
    "start_time": "2022-04-08T08:09:49.480Z"
   },
   {
    "duration": 23,
    "start_time": "2022-04-08T08:09:49.490Z"
   },
   {
    "duration": 17,
    "start_time": "2022-04-08T08:09:49.516Z"
   },
   {
    "duration": 11,
    "start_time": "2022-04-08T08:09:49.574Z"
   },
   {
    "duration": 501,
    "start_time": "2022-04-08T08:09:49.588Z"
   },
   {
    "duration": 12,
    "start_time": "2022-04-08T08:09:50.092Z"
   },
   {
    "duration": 443,
    "start_time": "2022-04-08T08:09:50.109Z"
   },
   {
    "duration": 290,
    "start_time": "2022-04-08T08:09:50.555Z"
   },
   {
    "duration": 267,
    "start_time": "2022-04-08T08:10:05.600Z"
   },
   {
    "duration": 113,
    "start_time": "2022-04-08T08:10:41.495Z"
   },
   {
    "duration": 375,
    "start_time": "2022-04-08T08:12:53.524Z"
   },
   {
    "duration": 822,
    "start_time": "2022-04-08T08:13:55.358Z"
   },
   {
    "duration": 78,
    "start_time": "2022-04-08T08:13:56.183Z"
   },
   {
    "duration": 7,
    "start_time": "2022-04-08T08:13:56.263Z"
   },
   {
    "duration": 7,
    "start_time": "2022-04-08T08:13:56.272Z"
   },
   {
    "duration": 20,
    "start_time": "2022-04-08T08:13:56.282Z"
   },
   {
    "duration": 15,
    "start_time": "2022-04-08T08:13:56.304Z"
   },
   {
    "duration": 11,
    "start_time": "2022-04-08T08:13:56.321Z"
   },
   {
    "duration": 489,
    "start_time": "2022-04-08T08:13:56.373Z"
   },
   {
    "duration": 15,
    "start_time": "2022-04-08T08:13:56.865Z"
   },
   {
    "duration": 493,
    "start_time": "2022-04-08T08:13:56.883Z"
   },
   {
    "duration": 345,
    "start_time": "2022-04-08T08:13:57.378Z"
   },
   {
    "duration": 13,
    "start_time": "2022-04-08T08:19:56.038Z"
   },
   {
    "duration": 110,
    "start_time": "2022-04-08T08:20:00.369Z"
   },
   {
    "duration": 11,
    "start_time": "2022-04-08T08:20:03.819Z"
   },
   {
    "duration": 26,
    "start_time": "2022-04-08T08:23:37.539Z"
   },
   {
    "duration": 17,
    "start_time": "2022-04-08T08:24:01.470Z"
   },
   {
    "duration": 24,
    "start_time": "2022-04-08T08:24:37.329Z"
   },
   {
    "duration": 15,
    "start_time": "2022-04-08T08:25:22.957Z"
   },
   {
    "duration": 24,
    "start_time": "2022-04-08T08:25:43.504Z"
   },
   {
    "duration": 35,
    "start_time": "2022-04-08T08:25:48.442Z"
   },
   {
    "duration": 25,
    "start_time": "2022-04-08T08:25:57.714Z"
   },
   {
    "duration": 5,
    "start_time": "2022-04-08T08:26:08.977Z"
   },
   {
    "duration": 28,
    "start_time": "2022-04-08T08:26:13.161Z"
   },
   {
    "duration": 36,
    "start_time": "2022-04-08T08:26:24.176Z"
   },
   {
    "duration": 25,
    "start_time": "2022-04-08T08:26:46.223Z"
   },
   {
    "duration": 13,
    "start_time": "2022-04-08T08:27:07.237Z"
   },
   {
    "duration": 13,
    "start_time": "2022-04-08T08:28:05.124Z"
   },
   {
    "duration": 28,
    "start_time": "2022-04-08T08:28:07.820Z"
   },
   {
    "duration": 29,
    "start_time": "2022-04-08T08:28:38.635Z"
   },
   {
    "duration": 21,
    "start_time": "2022-04-08T08:30:26.268Z"
   },
   {
    "duration": 31,
    "start_time": "2022-04-08T08:30:39.179Z"
   },
   {
    "duration": 24,
    "start_time": "2022-04-08T08:30:42.498Z"
   },
   {
    "duration": 11,
    "start_time": "2022-04-08T08:30:56.309Z"
   },
   {
    "duration": 23,
    "start_time": "2022-04-08T08:31:38.708Z"
   },
   {
    "duration": 8,
    "start_time": "2022-04-08T08:31:54.027Z"
   },
   {
    "duration": 21,
    "start_time": "2022-04-08T08:31:58.409Z"
   },
   {
    "duration": 6,
    "start_time": "2022-04-08T08:32:17.806Z"
   },
   {
    "duration": 6,
    "start_time": "2022-04-08T08:32:39.589Z"
   },
   {
    "duration": 17,
    "start_time": "2022-04-08T08:32:45.446Z"
   },
   {
    "duration": 7,
    "start_time": "2022-04-08T08:33:57.192Z"
   },
   {
    "duration": 21,
    "start_time": "2022-04-08T08:34:05.565Z"
   },
   {
    "duration": 336,
    "start_time": "2022-04-08T08:35:26.980Z"
   },
   {
    "duration": 391,
    "start_time": "2022-04-08T08:36:02.623Z"
   },
   {
    "duration": 884,
    "start_time": "2022-04-08T21:11:43.531Z"
   },
   {
    "duration": 180,
    "start_time": "2022-04-08T21:11:44.417Z"
   },
   {
    "duration": 7,
    "start_time": "2022-04-08T21:11:44.598Z"
   },
   {
    "duration": 10,
    "start_time": "2022-04-08T21:11:44.606Z"
   },
   {
    "duration": 20,
    "start_time": "2022-04-08T21:11:44.618Z"
   },
   {
    "duration": 11,
    "start_time": "2022-04-08T21:11:44.640Z"
   },
   {
    "duration": 11,
    "start_time": "2022-04-08T21:11:44.652Z"
   },
   {
    "duration": 20,
    "start_time": "2022-04-08T21:11:44.664Z"
   },
   {
    "duration": 7,
    "start_time": "2022-04-08T21:11:44.685Z"
   },
   {
    "duration": 38,
    "start_time": "2022-04-08T21:11:44.694Z"
   },
   {
    "duration": 6,
    "start_time": "2022-04-08T21:11:44.734Z"
   },
   {
    "duration": 10,
    "start_time": "2022-04-08T21:11:44.742Z"
   },
   {
    "duration": 315,
    "start_time": "2022-04-08T21:11:44.753Z"
   },
   {
    "duration": 3,
    "start_time": "2022-04-08T21:11:45.071Z"
   },
   {
    "duration": 8,
    "start_time": "2022-04-08T21:11:45.075Z"
   },
   {
    "duration": 7,
    "start_time": "2022-04-08T21:11:45.085Z"
   },
   {
    "duration": 7,
    "start_time": "2022-04-08T21:11:45.094Z"
   },
   {
    "duration": 94,
    "start_time": "2022-04-08T21:11:45.103Z"
   },
   {
    "duration": 7,
    "start_time": "2022-04-08T21:12:50.596Z"
   },
   {
    "duration": 8,
    "start_time": "2022-04-08T21:12:53.970Z"
   },
   {
    "duration": 17,
    "start_time": "2022-04-08T21:13:11.456Z"
   },
   {
    "duration": 16,
    "start_time": "2022-04-08T21:13:31.747Z"
   },
   {
    "duration": 9,
    "start_time": "2022-04-08T21:13:42.869Z"
   },
   {
    "duration": 11,
    "start_time": "2022-04-08T21:13:46.114Z"
   },
   {
    "duration": 10,
    "start_time": "2022-04-08T21:14:55.095Z"
   },
   {
    "duration": 2726,
    "start_time": "2022-04-08T21:19:19.651Z"
   },
   {
    "duration": 15,
    "start_time": "2022-04-08T21:21:19.141Z"
   },
   {
    "duration": 15,
    "start_time": "2022-04-08T21:22:00.105Z"
   },
   {
    "duration": 18,
    "start_time": "2022-04-08T21:22:09.417Z"
   },
   {
    "duration": 9,
    "start_time": "2022-04-08T21:23:02.136Z"
   },
   {
    "duration": 8,
    "start_time": "2022-04-08T21:23:09.311Z"
   },
   {
    "duration": 4,
    "start_time": "2022-04-08T21:23:09.444Z"
   },
   {
    "duration": 8,
    "start_time": "2022-04-08T21:23:17.015Z"
   },
   {
    "duration": 14,
    "start_time": "2022-04-08T21:24:07.868Z"
   },
   {
    "duration": 13,
    "start_time": "2022-04-08T21:24:22.866Z"
   },
   {
    "duration": 4,
    "start_time": "2022-04-08T21:24:33.593Z"
   },
   {
    "duration": 6,
    "start_time": "2022-04-08T21:24:34.206Z"
   },
   {
    "duration": 212,
    "start_time": "2022-04-08T21:24:36.411Z"
   },
   {
    "duration": 11,
    "start_time": "2022-04-08T21:24:40.235Z"
   },
   {
    "duration": 2807,
    "start_time": "2022-04-08T21:26:37.187Z"
   },
   {
    "duration": 16,
    "start_time": "2022-04-08T21:27:46.219Z"
   },
   {
    "duration": 4,
    "start_time": "2022-04-08T21:27:47.143Z"
   },
   {
    "duration": 5,
    "start_time": "2022-04-08T21:27:47.512Z"
   },
   {
    "duration": 223,
    "start_time": "2022-04-08T21:27:47.935Z"
   },
   {
    "duration": 12,
    "start_time": "2022-04-08T21:27:51.389Z"
   },
   {
    "duration": 15,
    "start_time": "2022-04-08T21:28:03.829Z"
   },
   {
    "duration": 673,
    "start_time": "2022-04-08T21:28:10.289Z"
   },
   {
    "duration": 138,
    "start_time": "2022-04-08T21:28:10.964Z"
   },
   {
    "duration": 6,
    "start_time": "2022-04-08T21:28:11.104Z"
   },
   {
    "duration": 10,
    "start_time": "2022-04-08T21:28:11.112Z"
   },
   {
    "duration": 26,
    "start_time": "2022-04-08T21:28:11.124Z"
   },
   {
    "duration": 26,
    "start_time": "2022-04-08T21:28:11.152Z"
   },
   {
    "duration": 29,
    "start_time": "2022-04-08T21:28:11.180Z"
   },
   {
    "duration": 23,
    "start_time": "2022-04-08T21:28:11.211Z"
   },
   {
    "duration": 12,
    "start_time": "2022-04-08T21:28:11.236Z"
   },
   {
    "duration": 16,
    "start_time": "2022-04-08T21:28:11.249Z"
   },
   {
    "duration": 20,
    "start_time": "2022-04-08T21:28:11.267Z"
   },
   {
    "duration": 14,
    "start_time": "2022-04-08T21:28:11.289Z"
   },
   {
    "duration": 25,
    "start_time": "2022-04-08T21:28:11.305Z"
   },
   {
    "duration": 303,
    "start_time": "2022-04-08T21:28:11.333Z"
   },
   {
    "duration": 10,
    "start_time": "2022-04-08T21:28:11.638Z"
   },
   {
    "duration": 16,
    "start_time": "2022-04-08T21:28:11.650Z"
   },
   {
    "duration": 21,
    "start_time": "2022-04-08T21:28:11.668Z"
   },
   {
    "duration": 85,
    "start_time": "2022-04-08T21:28:11.691Z"
   },
   {
    "duration": 9,
    "start_time": "2022-04-08T21:29:19.987Z"
   },
   {
    "duration": 214,
    "start_time": "2022-04-08T21:30:08.340Z"
   },
   {
    "duration": 209,
    "start_time": "2022-04-08T21:30:17.798Z"
   },
   {
    "duration": 218,
    "start_time": "2022-04-08T21:31:11.280Z"
   },
   {
    "duration": 11,
    "start_time": "2022-04-08T21:40:58.524Z"
   },
   {
    "duration": 7,
    "start_time": "2022-04-08T21:42:45.652Z"
   },
   {
    "duration": 297,
    "start_time": "2022-04-08T21:43:45.307Z"
   },
   {
    "duration": 228,
    "start_time": "2022-04-08T21:44:11.427Z"
   },
   {
    "duration": 154,
    "start_time": "2022-04-08T21:44:38.345Z"
   },
   {
    "duration": 5,
    "start_time": "2022-04-08T21:45:10.340Z"
   },
   {
    "duration": 213,
    "start_time": "2022-04-08T21:45:12.562Z"
   },
   {
    "duration": 732,
    "start_time": "2022-04-09T07:39:58.823Z"
   },
   {
    "duration": 103,
    "start_time": "2022-04-09T07:39:59.556Z"
   },
   {
    "duration": 6,
    "start_time": "2022-04-09T07:39:59.660Z"
   },
   {
    "duration": 6,
    "start_time": "2022-04-09T07:39:59.668Z"
   },
   {
    "duration": 17,
    "start_time": "2022-04-09T07:39:59.676Z"
   },
   {
    "duration": 12,
    "start_time": "2022-04-09T07:39:59.694Z"
   },
   {
    "duration": 10,
    "start_time": "2022-04-09T07:39:59.707Z"
   },
   {
    "duration": 16,
    "start_time": "2022-04-09T07:39:59.719Z"
   },
   {
    "duration": 39,
    "start_time": "2022-04-09T07:39:59.737Z"
   },
   {
    "duration": 8,
    "start_time": "2022-04-09T07:39:59.777Z"
   },
   {
    "duration": 15,
    "start_time": "2022-04-09T07:39:59.787Z"
   },
   {
    "duration": 6,
    "start_time": "2022-04-09T07:39:59.803Z"
   },
   {
    "duration": 7,
    "start_time": "2022-04-09T07:39:59.811Z"
   },
   {
    "duration": 277,
    "start_time": "2022-04-09T07:39:59.820Z"
   },
   {
    "duration": 9,
    "start_time": "2022-04-09T07:40:00.099Z"
   },
   {
    "duration": 10,
    "start_time": "2022-04-09T07:40:00.109Z"
   },
   {
    "duration": 9,
    "start_time": "2022-04-09T07:40:00.120Z"
   },
   {
    "duration": 193,
    "start_time": "2022-04-09T07:40:00.130Z"
   },
   {
    "duration": 180,
    "start_time": "2022-04-09T07:40:00.324Z"
   },
   {
    "duration": 8,
    "start_time": "2022-04-09T07:40:00.506Z"
   },
   {
    "duration": 19,
    "start_time": "2022-04-09T07:40:00.516Z"
   },
   {
    "duration": 188,
    "start_time": "2022-04-09T07:40:00.536Z"
   },
   {
    "duration": 8,
    "start_time": "2022-04-09T08:27:50.614Z"
   },
   {
    "duration": 7,
    "start_time": "2022-04-09T08:28:03.700Z"
   },
   {
    "duration": 23,
    "start_time": "2022-04-09T08:28:17.142Z"
   },
   {
    "duration": 605,
    "start_time": "2022-04-09T08:28:25.879Z"
   },
   {
    "duration": 93,
    "start_time": "2022-04-09T08:28:26.486Z"
   },
   {
    "duration": 6,
    "start_time": "2022-04-09T08:28:26.580Z"
   },
   {
    "duration": 5,
    "start_time": "2022-04-09T08:28:26.587Z"
   },
   {
    "duration": 14,
    "start_time": "2022-04-09T08:28:26.594Z"
   },
   {
    "duration": 9,
    "start_time": "2022-04-09T08:28:26.610Z"
   },
   {
    "duration": 9,
    "start_time": "2022-04-09T08:28:26.621Z"
   },
   {
    "duration": 18,
    "start_time": "2022-04-09T08:28:26.632Z"
   },
   {
    "duration": 7,
    "start_time": "2022-04-09T08:28:26.670Z"
   },
   {
    "duration": 13,
    "start_time": "2022-04-09T08:28:26.679Z"
   },
   {
    "duration": 21,
    "start_time": "2022-04-09T08:28:26.693Z"
   },
   {
    "duration": 6,
    "start_time": "2022-04-09T08:28:26.715Z"
   },
   {
    "duration": 12,
    "start_time": "2022-04-09T08:28:26.722Z"
   },
   {
    "duration": 240,
    "start_time": "2022-04-09T08:28:26.737Z"
   },
   {
    "duration": 5,
    "start_time": "2022-04-09T08:28:26.978Z"
   },
   {
    "duration": 19,
    "start_time": "2022-04-09T08:28:26.984Z"
   },
   {
    "duration": 175,
    "start_time": "2022-04-09T08:28:27.005Z"
   },
   {
    "duration": 9,
    "start_time": "2022-04-09T08:28:27.182Z"
   },
   {
    "duration": 39,
    "start_time": "2022-04-09T08:28:27.192Z"
   },
   {
    "duration": 82,
    "start_time": "2022-04-09T08:28:27.233Z"
   },
   {
    "duration": 0,
    "start_time": "2022-04-09T08:28:27.317Z"
   },
   {
    "duration": 0,
    "start_time": "2022-04-09T08:28:27.318Z"
   },
   {
    "duration": 0,
    "start_time": "2022-04-09T08:28:27.320Z"
   },
   {
    "duration": 0,
    "start_time": "2022-04-09T08:28:27.321Z"
   },
   {
    "duration": 13,
    "start_time": "2022-04-09T08:28:52.832Z"
   },
   {
    "duration": 803,
    "start_time": "2022-04-09T20:49:25.389Z"
   },
   {
    "duration": 94,
    "start_time": "2022-04-09T20:49:26.194Z"
   },
   {
    "duration": 6,
    "start_time": "2022-04-09T20:49:26.290Z"
   },
   {
    "duration": 7,
    "start_time": "2022-04-09T20:49:26.297Z"
   },
   {
    "duration": 16,
    "start_time": "2022-04-09T20:49:26.306Z"
   },
   {
    "duration": 9,
    "start_time": "2022-04-09T20:49:26.324Z"
   },
   {
    "duration": 9,
    "start_time": "2022-04-09T20:49:26.335Z"
   },
   {
    "duration": 16,
    "start_time": "2022-04-09T20:49:26.345Z"
   },
   {
    "duration": 6,
    "start_time": "2022-04-09T20:49:26.363Z"
   },
   {
    "duration": 8,
    "start_time": "2022-04-09T20:49:26.370Z"
   },
   {
    "duration": 19,
    "start_time": "2022-04-09T20:49:26.379Z"
   },
   {
    "duration": 10,
    "start_time": "2022-04-09T20:49:26.399Z"
   },
   {
    "duration": 8,
    "start_time": "2022-04-09T20:49:26.410Z"
   },
   {
    "duration": 265,
    "start_time": "2022-04-09T20:49:26.421Z"
   },
   {
    "duration": 7,
    "start_time": "2022-04-09T20:49:26.688Z"
   },
   {
    "duration": 12,
    "start_time": "2022-04-09T20:49:26.697Z"
   },
   {
    "duration": 235,
    "start_time": "2022-04-09T20:49:26.712Z"
   },
   {
    "duration": 9,
    "start_time": "2022-04-09T20:49:26.949Z"
   },
   {
    "duration": 18,
    "start_time": "2022-04-09T20:49:26.960Z"
   },
   {
    "duration": 1906,
    "start_time": "2022-04-09T20:49:26.980Z"
   },
   {
    "duration": 0,
    "start_time": "2022-04-09T20:49:28.887Z"
   },
   {
    "duration": 0,
    "start_time": "2022-04-09T20:49:28.889Z"
   },
   {
    "duration": 0,
    "start_time": "2022-04-09T20:49:28.890Z"
   },
   {
    "duration": 0,
    "start_time": "2022-04-09T20:49:28.891Z"
   },
   {
    "duration": 172,
    "start_time": "2022-04-09T20:51:03.259Z"
   },
   {
    "duration": 264,
    "start_time": "2022-04-09T20:51:11.234Z"
   },
   {
    "duration": 7,
    "start_time": "2022-04-09T20:51:17.289Z"
   },
   {
    "duration": 221,
    "start_time": "2022-04-09T20:51:17.651Z"
   },
   {
    "duration": 195,
    "start_time": "2022-04-09T20:56:38.110Z"
   },
   {
    "duration": 186,
    "start_time": "2022-04-09T20:56:46.232Z"
   },
   {
    "duration": 206,
    "start_time": "2022-04-09T20:57:03.045Z"
   },
   {
    "duration": 175,
    "start_time": "2022-04-09T20:57:15.803Z"
   },
   {
    "duration": 371,
    "start_time": "2022-04-09T20:57:28.617Z"
   },
   {
    "duration": 1200,
    "start_time": "2022-04-10T07:51:54.427Z"
   },
   {
    "duration": 100,
    "start_time": "2022-04-10T07:51:55.631Z"
   },
   {
    "duration": 8,
    "start_time": "2022-04-10T07:51:55.733Z"
   },
   {
    "duration": 11,
    "start_time": "2022-04-10T07:51:55.743Z"
   },
   {
    "duration": 26,
    "start_time": "2022-04-10T07:51:55.757Z"
   },
   {
    "duration": 16,
    "start_time": "2022-04-10T07:51:55.785Z"
   },
   {
    "duration": 14,
    "start_time": "2022-04-10T07:51:55.803Z"
   },
   {
    "duration": 24,
    "start_time": "2022-04-10T07:51:55.819Z"
   },
   {
    "duration": 48,
    "start_time": "2022-04-10T07:51:55.845Z"
   },
   {
    "duration": 10,
    "start_time": "2022-04-10T07:51:55.895Z"
   },
   {
    "duration": 22,
    "start_time": "2022-04-10T07:51:55.907Z"
   },
   {
    "duration": 7,
    "start_time": "2022-04-10T07:51:55.931Z"
   },
   {
    "duration": 10,
    "start_time": "2022-04-10T07:51:55.940Z"
   },
   {
    "duration": 491,
    "start_time": "2022-04-10T07:51:55.986Z"
   },
   {
    "duration": 8,
    "start_time": "2022-04-10T07:51:56.479Z"
   },
   {
    "duration": 9,
    "start_time": "2022-04-10T07:51:56.489Z"
   },
   {
    "duration": 359,
    "start_time": "2022-04-10T07:51:56.500Z"
   },
   {
    "duration": 23,
    "start_time": "2022-04-10T07:51:56.861Z"
   },
   {
    "duration": 31,
    "start_time": "2022-04-10T07:51:56.887Z"
   },
   {
    "duration": 351,
    "start_time": "2022-04-10T07:51:56.920Z"
   },
   {
    "duration": 21,
    "start_time": "2022-04-10T07:51:57.274Z"
   },
   {
    "duration": 9,
    "start_time": "2022-04-10T07:51:57.297Z"
   },
   {
    "duration": 457,
    "start_time": "2022-04-10T07:51:57.308Z"
   },
   {
    "duration": 262,
    "start_time": "2022-04-10T07:55:32.243Z"
   },
   {
    "duration": 120,
    "start_time": "2022-04-10T07:56:33.484Z"
   },
   {
    "duration": 8,
    "start_time": "2022-04-10T07:56:37.973Z"
   },
   {
    "duration": 8,
    "start_time": "2022-04-10T07:57:17.729Z"
   },
   {
    "duration": 13,
    "start_time": "2022-04-10T07:58:19.134Z"
   },
   {
    "duration": 9,
    "start_time": "2022-04-10T07:59:16.951Z"
   },
   {
    "duration": 17,
    "start_time": "2022-04-10T07:59:21.352Z"
   },
   {
    "duration": 16,
    "start_time": "2022-04-10T08:00:16.035Z"
   },
   {
    "duration": 28,
    "start_time": "2022-04-10T08:00:55.263Z"
   },
   {
    "duration": 110,
    "start_time": "2022-04-10T08:01:01.099Z"
   },
   {
    "duration": 231,
    "start_time": "2022-04-10T08:02:17.025Z"
   },
   {
    "duration": 19,
    "start_time": "2022-04-10T08:02:36.818Z"
   },
   {
    "duration": 19,
    "start_time": "2022-04-10T08:02:50.164Z"
   },
   {
    "duration": 16,
    "start_time": "2022-04-10T08:03:04.970Z"
   },
   {
    "duration": 7,
    "start_time": "2022-04-10T08:03:21.716Z"
   },
   {
    "duration": 9,
    "start_time": "2022-04-10T08:03:26.015Z"
   },
   {
    "duration": 224,
    "start_time": "2022-04-10T08:05:06.064Z"
   },
   {
    "duration": 889,
    "start_time": "2022-04-10T13:23:26.619Z"
   },
   {
    "duration": 97,
    "start_time": "2022-04-10T13:23:27.510Z"
   },
   {
    "duration": 7,
    "start_time": "2022-04-10T13:23:27.608Z"
   },
   {
    "duration": 10,
    "start_time": "2022-04-10T13:23:27.616Z"
   },
   {
    "duration": 19,
    "start_time": "2022-04-10T13:23:27.628Z"
   },
   {
    "duration": 11,
    "start_time": "2022-04-10T13:23:27.648Z"
   },
   {
    "duration": 13,
    "start_time": "2022-04-10T13:23:27.661Z"
   },
   {
    "duration": 24,
    "start_time": "2022-04-10T13:23:27.676Z"
   },
   {
    "duration": 8,
    "start_time": "2022-04-10T13:23:27.702Z"
   },
   {
    "duration": 7,
    "start_time": "2022-04-10T13:23:27.740Z"
   },
   {
    "duration": 21,
    "start_time": "2022-04-10T13:23:27.749Z"
   },
   {
    "duration": 11,
    "start_time": "2022-04-10T13:23:27.771Z"
   },
   {
    "duration": 13,
    "start_time": "2022-04-10T13:23:27.784Z"
   },
   {
    "duration": 299,
    "start_time": "2022-04-10T13:23:27.801Z"
   },
   {
    "duration": 4,
    "start_time": "2022-04-10T13:23:28.103Z"
   },
   {
    "duration": 14,
    "start_time": "2022-04-10T13:23:28.109Z"
   },
   {
    "duration": 213,
    "start_time": "2022-04-10T13:23:28.125Z"
   },
   {
    "duration": 9,
    "start_time": "2022-04-10T13:23:28.340Z"
   },
   {
    "duration": 16,
    "start_time": "2022-04-10T13:23:28.351Z"
   },
   {
    "duration": 231,
    "start_time": "2022-04-10T13:23:28.368Z"
   },
   {
    "duration": 10,
    "start_time": "2022-04-10T13:23:28.601Z"
   },
   {
    "duration": 10,
    "start_time": "2022-04-10T13:23:28.613Z"
   },
   {
    "duration": 284,
    "start_time": "2022-04-10T13:23:28.640Z"
   },
   {
    "duration": 7,
    "start_time": "2022-04-10T13:23:28.926Z"
   },
   {
    "duration": 138,
    "start_time": "2022-04-10T13:23:28.935Z"
   },
   {
    "duration": 4,
    "start_time": "2022-04-10T13:23:29.075Z"
   },
   {
    "duration": 171,
    "start_time": "2022-04-10T13:23:29.081Z"
   },
   {
    "duration": 6,
    "start_time": "2022-04-10T13:23:29.253Z"
   },
   {
    "duration": 362,
    "start_time": "2022-04-10T13:28:39.979Z"
   },
   {
    "duration": 2373,
    "start_time": "2022-04-10T13:42:22.003Z"
   },
   {
    "duration": 11,
    "start_time": "2022-04-10T13:42:38.233Z"
   },
   {
    "duration": 8,
    "start_time": "2022-04-10T13:44:14.770Z"
   },
   {
    "duration": 19,
    "start_time": "2022-04-10T13:44:34.203Z"
   },
   {
    "duration": 19,
    "start_time": "2022-04-10T13:44:41.302Z"
   },
   {
    "duration": 11,
    "start_time": "2022-04-10T13:44:50.708Z"
   },
   {
    "duration": 18,
    "start_time": "2022-04-10T13:45:11.129Z"
   },
   {
    "duration": 12,
    "start_time": "2022-04-10T13:45:39.389Z"
   },
   {
    "duration": 19,
    "start_time": "2022-04-10T13:45:58.691Z"
   },
   {
    "duration": 16,
    "start_time": "2022-04-10T13:46:03.300Z"
   },
   {
    "duration": 9,
    "start_time": "2022-04-10T13:46:38.526Z"
   },
   {
    "duration": 8,
    "start_time": "2022-04-10T13:47:07.471Z"
   },
   {
    "duration": 8,
    "start_time": "2022-04-10T13:47:15.779Z"
   },
   {
    "duration": 14,
    "start_time": "2022-04-10T13:47:20.168Z"
   },
   {
    "duration": 7,
    "start_time": "2022-04-10T13:47:27.268Z"
   },
   {
    "duration": 5,
    "start_time": "2022-04-10T13:47:38.509Z"
   },
   {
    "duration": 11,
    "start_time": "2022-04-10T13:49:24.364Z"
   },
   {
    "duration": 4,
    "start_time": "2022-04-10T13:49:41.606Z"
   },
   {
    "duration": 5,
    "start_time": "2022-04-10T13:49:51.911Z"
   },
   {
    "duration": 6,
    "start_time": "2022-04-10T13:51:29.920Z"
   },
   {
    "duration": 7,
    "start_time": "2022-04-10T13:51:59.879Z"
   },
   {
    "duration": 7,
    "start_time": "2022-04-10T13:52:04.684Z"
   },
   {
    "duration": 4,
    "start_time": "2022-04-10T13:52:13.106Z"
   },
   {
    "duration": 5,
    "start_time": "2022-04-10T13:52:14.905Z"
   },
   {
    "duration": 18,
    "start_time": "2022-04-10T14:17:39.055Z"
   },
   {
    "duration": 464,
    "start_time": "2022-04-10T14:28:03.786Z"
   },
   {
    "duration": 1140,
    "start_time": "2022-04-10T14:28:09.360Z"
   },
   {
    "duration": 121,
    "start_time": "2022-04-10T14:28:10.502Z"
   },
   {
    "duration": 6,
    "start_time": "2022-04-10T14:28:10.625Z"
   },
   {
    "duration": 13,
    "start_time": "2022-04-10T14:28:10.633Z"
   },
   {
    "duration": 25,
    "start_time": "2022-04-10T14:28:10.648Z"
   },
   {
    "duration": 13,
    "start_time": "2022-04-10T14:28:10.674Z"
   },
   {
    "duration": 20,
    "start_time": "2022-04-10T14:28:10.688Z"
   },
   {
    "duration": 25,
    "start_time": "2022-04-10T14:28:10.709Z"
   },
   {
    "duration": 8,
    "start_time": "2022-04-10T14:28:10.739Z"
   },
   {
    "duration": 13,
    "start_time": "2022-04-10T14:28:10.749Z"
   },
   {
    "duration": 22,
    "start_time": "2022-04-10T14:28:10.764Z"
   },
   {
    "duration": 10,
    "start_time": "2022-04-10T14:28:10.788Z"
   },
   {
    "duration": 12,
    "start_time": "2022-04-10T14:28:10.800Z"
   },
   {
    "duration": 475,
    "start_time": "2022-04-10T14:28:10.816Z"
   },
   {
    "duration": 7,
    "start_time": "2022-04-10T14:28:11.293Z"
   },
   {
    "duration": 14,
    "start_time": "2022-04-10T14:28:11.301Z"
   },
   {
    "duration": 220,
    "start_time": "2022-04-10T14:28:11.318Z"
   },
   {
    "duration": 11,
    "start_time": "2022-04-10T14:28:11.540Z"
   },
   {
    "duration": 21,
    "start_time": "2022-04-10T14:28:11.554Z"
   },
   {
    "duration": 221,
    "start_time": "2022-04-10T14:28:11.577Z"
   },
   {
    "duration": 11,
    "start_time": "2022-04-10T14:28:11.801Z"
   },
   {
    "duration": 12,
    "start_time": "2022-04-10T14:28:11.814Z"
   },
   {
    "duration": 243,
    "start_time": "2022-04-10T14:28:11.840Z"
   },
   {
    "duration": 319,
    "start_time": "2022-04-10T14:28:12.086Z"
   },
   {
    "duration": 7,
    "start_time": "2022-04-10T14:28:12.407Z"
   },
   {
    "duration": 149,
    "start_time": "2022-04-10T14:28:12.416Z"
   },
   {
    "duration": 5,
    "start_time": "2022-04-10T14:28:12.567Z"
   },
   {
    "duration": 24,
    "start_time": "2022-04-10T14:28:12.573Z"
   },
   {
    "duration": 7,
    "start_time": "2022-04-10T14:28:12.598Z"
   },
   {
    "duration": 171,
    "start_time": "2022-04-10T14:28:12.606Z"
   },
   {
    "duration": 5,
    "start_time": "2022-04-10T14:28:12.779Z"
   },
   {
    "duration": 9,
    "start_time": "2022-04-10T14:28:12.786Z"
   },
   {
    "duration": 10,
    "start_time": "2022-04-10T14:32:09.525Z"
   },
   {
    "duration": 8,
    "start_time": "2022-04-10T14:32:20.855Z"
   },
   {
    "duration": 10,
    "start_time": "2022-04-10T14:33:06.984Z"
   },
   {
    "duration": 12,
    "start_time": "2022-04-10T14:34:36.225Z"
   },
   {
    "duration": 5,
    "start_time": "2022-04-10T14:35:35.263Z"
   },
   {
    "duration": 5,
    "start_time": "2022-04-10T14:35:46.975Z"
   },
   {
    "duration": 5,
    "start_time": "2022-04-10T14:46:04.122Z"
   },
   {
    "duration": 5,
    "start_time": "2022-04-10T14:46:20.208Z"
   },
   {
    "duration": 5,
    "start_time": "2022-04-10T14:46:22.821Z"
   },
   {
    "duration": 5,
    "start_time": "2022-04-10T14:47:10.927Z"
   },
   {
    "duration": 104,
    "start_time": "2022-04-10T14:47:46.211Z"
   },
   {
    "duration": 18,
    "start_time": "2022-04-10T14:48:27.716Z"
   },
   {
    "duration": 6,
    "start_time": "2022-04-10T14:49:23.671Z"
   },
   {
    "duration": 103,
    "start_time": "2022-04-10T14:50:18.082Z"
   },
   {
    "duration": 12,
    "start_time": "2022-04-10T14:50:25.521Z"
   },
   {
    "duration": 13,
    "start_time": "2022-04-10T14:50:52.916Z"
   },
   {
    "duration": 4,
    "start_time": "2022-04-10T14:52:57.869Z"
   },
   {
    "duration": 11,
    "start_time": "2022-04-10T14:52:58.835Z"
   },
   {
    "duration": 1165,
    "start_time": "2022-04-10T14:53:08.853Z"
   },
   {
    "duration": 133,
    "start_time": "2022-04-10T14:53:10.020Z"
   },
   {
    "duration": 6,
    "start_time": "2022-04-10T14:53:10.155Z"
   },
   {
    "duration": 16,
    "start_time": "2022-04-10T14:53:10.163Z"
   },
   {
    "duration": 30,
    "start_time": "2022-04-10T14:53:10.182Z"
   },
   {
    "duration": 13,
    "start_time": "2022-04-10T14:53:10.214Z"
   },
   {
    "duration": 14,
    "start_time": "2022-04-10T14:53:10.229Z"
   },
   {
    "duration": 21,
    "start_time": "2022-04-10T14:53:10.245Z"
   },
   {
    "duration": 9,
    "start_time": "2022-04-10T14:53:10.267Z"
   },
   {
    "duration": 23,
    "start_time": "2022-04-10T14:53:10.278Z"
   },
   {
    "duration": 19,
    "start_time": "2022-04-10T14:53:10.303Z"
   },
   {
    "duration": 15,
    "start_time": "2022-04-10T14:53:10.324Z"
   },
   {
    "duration": 14,
    "start_time": "2022-04-10T14:53:10.341Z"
   },
   {
    "duration": 304,
    "start_time": "2022-04-10T14:53:10.361Z"
   },
   {
    "duration": 6,
    "start_time": "2022-04-10T14:53:10.666Z"
   },
   {
    "duration": 15,
    "start_time": "2022-04-10T14:53:10.675Z"
   },
   {
    "duration": 238,
    "start_time": "2022-04-10T14:53:10.692Z"
   },
   {
    "duration": 12,
    "start_time": "2022-04-10T14:53:10.933Z"
   },
   {
    "duration": 21,
    "start_time": "2022-04-10T14:53:10.947Z"
   },
   {
    "duration": 223,
    "start_time": "2022-04-10T14:53:10.970Z"
   },
   {
    "duration": 10,
    "start_time": "2022-04-10T14:53:11.194Z"
   },
   {
    "duration": 13,
    "start_time": "2022-04-10T14:53:11.206Z"
   },
   {
    "duration": 242,
    "start_time": "2022-04-10T14:53:11.221Z"
   },
   {
    "duration": 319,
    "start_time": "2022-04-10T14:53:11.465Z"
   },
   {
    "duration": 8,
    "start_time": "2022-04-10T14:53:11.786Z"
   },
   {
    "duration": 147,
    "start_time": "2022-04-10T14:53:11.795Z"
   },
   {
    "duration": 5,
    "start_time": "2022-04-10T14:53:11.944Z"
   },
   {
    "duration": 23,
    "start_time": "2022-04-10T14:53:11.951Z"
   },
   {
    "duration": 6,
    "start_time": "2022-04-10T14:53:11.976Z"
   },
   {
    "duration": 183,
    "start_time": "2022-04-10T14:53:11.984Z"
   },
   {
    "duration": 5,
    "start_time": "2022-04-10T14:53:12.169Z"
   },
   {
    "duration": 10,
    "start_time": "2022-04-10T14:53:12.176Z"
   },
   {
    "duration": 9,
    "start_time": "2022-04-10T14:53:12.188Z"
   },
   {
    "duration": 10,
    "start_time": "2022-04-10T14:53:12.199Z"
   },
   {
    "duration": 8,
    "start_time": "2022-04-10T14:53:12.211Z"
   },
   {
    "duration": 22,
    "start_time": "2022-04-10T14:53:12.221Z"
   },
   {
    "duration": 114,
    "start_time": "2022-04-10T14:53:12.245Z"
   },
   {
    "duration": 5,
    "start_time": "2022-04-10T14:54:39.296Z"
   },
   {
    "duration": 12,
    "start_time": "2022-04-10T14:54:39.853Z"
   },
   {
    "duration": 4,
    "start_time": "2022-04-10T14:54:49.334Z"
   },
   {
    "duration": 5,
    "start_time": "2022-04-10T14:55:58.244Z"
   },
   {
    "duration": 4,
    "start_time": "2022-04-10T14:56:03.999Z"
   },
   {
    "duration": 5,
    "start_time": "2022-04-10T14:56:11.298Z"
   },
   {
    "duration": 6,
    "start_time": "2022-04-10T14:56:15.844Z"
   },
   {
    "duration": 5,
    "start_time": "2022-04-10T14:56:17.192Z"
   },
   {
    "duration": 11,
    "start_time": "2022-04-10T15:35:40.837Z"
   },
   {
    "duration": 12,
    "start_time": "2022-04-10T15:36:03.454Z"
   },
   {
    "duration": 10,
    "start_time": "2022-04-10T15:36:17.468Z"
   },
   {
    "duration": 21,
    "start_time": "2022-04-10T15:44:04.153Z"
   },
   {
    "duration": 5,
    "start_time": "2022-04-10T15:45:10.416Z"
   },
   {
    "duration": 2,
    "start_time": "2022-04-10T15:45:49.182Z"
   },
   {
    "duration": 4,
    "start_time": "2022-04-10T15:48:47.820Z"
   },
   {
    "duration": 11,
    "start_time": "2022-04-10T15:48:53.259Z"
   },
   {
    "duration": 6,
    "start_time": "2022-04-10T15:48:59.081Z"
   },
   {
    "duration": 6,
    "start_time": "2022-04-10T15:49:03.435Z"
   },
   {
    "duration": 7,
    "start_time": "2022-04-10T15:49:08.509Z"
   },
   {
    "duration": 4,
    "start_time": "2022-04-10T15:49:12.183Z"
   },
   {
    "duration": 12,
    "start_time": "2022-04-10T15:49:36.744Z"
   },
   {
    "duration": 19,
    "start_time": "2022-04-10T15:49:48.119Z"
   },
   {
    "duration": 22,
    "start_time": "2022-04-10T15:50:12.257Z"
   },
   {
    "duration": 18,
    "start_time": "2022-04-10T15:50:22.068Z"
   },
   {
    "duration": 6,
    "start_time": "2022-04-10T18:56:40.596Z"
   },
   {
    "duration": 21,
    "start_time": "2022-04-10T18:57:02.880Z"
   },
   {
    "duration": 6,
    "start_time": "2022-04-10T18:58:18.070Z"
   },
   {
    "duration": 5,
    "start_time": "2022-04-10T18:58:39.050Z"
   },
   {
    "duration": 10,
    "start_time": "2022-04-10T18:59:31.424Z"
   },
   {
    "duration": 5,
    "start_time": "2022-04-10T19:00:45.240Z"
   },
   {
    "duration": 14,
    "start_time": "2022-04-10T19:00:50.951Z"
   },
   {
    "duration": 14,
    "start_time": "2022-04-10T19:00:57.936Z"
   },
   {
    "duration": 13,
    "start_time": "2022-04-10T19:01:10.298Z"
   },
   {
    "duration": 7,
    "start_time": "2022-04-10T19:01:15.015Z"
   },
   {
    "duration": 13,
    "start_time": "2022-04-10T19:01:47.678Z"
   },
   {
    "duration": 7,
    "start_time": "2022-04-10T19:02:24.370Z"
   },
   {
    "duration": 2284,
    "start_time": "2022-04-10T19:02:40.579Z"
   },
   {
    "duration": 4,
    "start_time": "2022-04-10T19:03:14.453Z"
   },
   {
    "duration": 2220,
    "start_time": "2022-04-10T19:03:15.585Z"
   },
   {
    "duration": 14,
    "start_time": "2022-04-10T19:03:30.564Z"
   },
   {
    "duration": 5,
    "start_time": "2022-04-10T19:04:27.850Z"
   },
   {
    "duration": 2105,
    "start_time": "2022-04-10T19:04:56.276Z"
   },
   {
    "duration": 5,
    "start_time": "2022-04-10T19:05:13.813Z"
   },
   {
    "duration": 5,
    "start_time": "2022-04-10T19:07:31.887Z"
   },
   {
    "duration": 3,
    "start_time": "2022-04-10T19:08:25.953Z"
   },
   {
    "duration": 5,
    "start_time": "2022-04-10T19:08:30.351Z"
   },
   {
    "duration": 6,
    "start_time": "2022-04-10T19:08:30.623Z"
   },
   {
    "duration": 6,
    "start_time": "2022-04-10T19:10:44.724Z"
   },
   {
    "duration": 1206,
    "start_time": "2022-04-10T19:10:57.809Z"
   },
   {
    "duration": 128,
    "start_time": "2022-04-10T19:10:59.017Z"
   },
   {
    "duration": 8,
    "start_time": "2022-04-10T19:10:59.147Z"
   },
   {
    "duration": 13,
    "start_time": "2022-04-10T19:10:59.157Z"
   },
   {
    "duration": 25,
    "start_time": "2022-04-10T19:10:59.172Z"
   },
   {
    "duration": 13,
    "start_time": "2022-04-10T19:10:59.199Z"
   },
   {
    "duration": 28,
    "start_time": "2022-04-10T19:10:59.214Z"
   },
   {
    "duration": 22,
    "start_time": "2022-04-10T19:10:59.244Z"
   },
   {
    "duration": 9,
    "start_time": "2022-04-10T19:10:59.268Z"
   },
   {
    "duration": 16,
    "start_time": "2022-04-10T19:10:59.280Z"
   },
   {
    "duration": 40,
    "start_time": "2022-04-10T19:10:59.299Z"
   },
   {
    "duration": 5,
    "start_time": "2022-04-10T19:10:59.342Z"
   },
   {
    "duration": 12,
    "start_time": "2022-04-10T19:10:59.350Z"
   },
   {
    "duration": 308,
    "start_time": "2022-04-10T19:10:59.365Z"
   },
   {
    "duration": 8,
    "start_time": "2022-04-10T19:10:59.676Z"
   },
   {
    "duration": 17,
    "start_time": "2022-04-10T19:10:59.686Z"
   },
   {
    "duration": 358,
    "start_time": "2022-04-10T19:10:59.705Z"
   },
   {
    "duration": 14,
    "start_time": "2022-04-10T19:11:00.065Z"
   },
   {
    "duration": 39,
    "start_time": "2022-04-10T19:11:00.082Z"
   },
   {
    "duration": 340,
    "start_time": "2022-04-10T19:11:00.123Z"
   },
   {
    "duration": 15,
    "start_time": "2022-04-10T19:11:00.465Z"
   },
   {
    "duration": 19,
    "start_time": "2022-04-10T19:11:00.481Z"
   },
   {
    "duration": 258,
    "start_time": "2022-04-10T19:11:00.502Z"
   },
   {
    "duration": 331,
    "start_time": "2022-04-10T19:11:00.763Z"
   },
   {
    "duration": 9,
    "start_time": "2022-04-10T19:11:01.097Z"
   },
   {
    "duration": 164,
    "start_time": "2022-04-10T19:11:01.108Z"
   },
   {
    "duration": 6,
    "start_time": "2022-04-10T19:11:01.274Z"
   },
   {
    "duration": 32,
    "start_time": "2022-04-10T19:11:01.285Z"
   },
   {
    "duration": 25,
    "start_time": "2022-04-10T19:11:01.320Z"
   },
   {
    "duration": 121,
    "start_time": "2022-04-10T19:11:01.347Z"
   },
   {
    "duration": 0,
    "start_time": "2022-04-10T19:11:01.470Z"
   },
   {
    "duration": 0,
    "start_time": "2022-04-10T19:11:01.471Z"
   },
   {
    "duration": 0,
    "start_time": "2022-04-10T19:11:01.473Z"
   },
   {
    "duration": 0,
    "start_time": "2022-04-10T19:11:01.474Z"
   },
   {
    "duration": 0,
    "start_time": "2022-04-10T19:11:01.475Z"
   },
   {
    "duration": 0,
    "start_time": "2022-04-10T19:11:01.476Z"
   },
   {
    "duration": 0,
    "start_time": "2022-04-10T19:11:01.477Z"
   },
   {
    "duration": 0,
    "start_time": "2022-04-10T19:11:01.478Z"
   },
   {
    "duration": 0,
    "start_time": "2022-04-10T19:11:01.480Z"
   },
   {
    "duration": 0,
    "start_time": "2022-04-10T19:11:01.481Z"
   },
   {
    "duration": 0,
    "start_time": "2022-04-10T19:11:01.482Z"
   },
   {
    "duration": 0,
    "start_time": "2022-04-10T19:11:01.483Z"
   },
   {
    "duration": 0,
    "start_time": "2022-04-10T19:11:01.484Z"
   },
   {
    "duration": 0,
    "start_time": "2022-04-10T19:11:01.485Z"
   },
   {
    "duration": 0,
    "start_time": "2022-04-10T19:11:01.487Z"
   },
   {
    "duration": 0,
    "start_time": "2022-04-10T19:11:01.488Z"
   },
   {
    "duration": 0,
    "start_time": "2022-04-10T19:11:01.489Z"
   },
   {
    "duration": 1149,
    "start_time": "2022-04-10T19:12:25.067Z"
   },
   {
    "duration": 100,
    "start_time": "2022-04-10T19:12:26.219Z"
   },
   {
    "duration": 7,
    "start_time": "2022-04-10T19:12:26.321Z"
   },
   {
    "duration": 28,
    "start_time": "2022-04-10T19:12:26.329Z"
   },
   {
    "duration": 24,
    "start_time": "2022-04-10T19:12:26.359Z"
   },
   {
    "duration": 11,
    "start_time": "2022-04-10T19:12:26.385Z"
   },
   {
    "duration": 17,
    "start_time": "2022-04-10T19:12:26.398Z"
   },
   {
    "duration": 25,
    "start_time": "2022-04-10T19:12:26.416Z"
   },
   {
    "duration": 8,
    "start_time": "2022-04-10T19:12:26.443Z"
   },
   {
    "duration": 14,
    "start_time": "2022-04-10T19:12:26.452Z"
   },
   {
    "duration": 31,
    "start_time": "2022-04-10T19:12:26.468Z"
   },
   {
    "duration": 12,
    "start_time": "2022-04-10T19:12:26.501Z"
   },
   {
    "duration": 14,
    "start_time": "2022-04-10T19:12:26.515Z"
   },
   {
    "duration": 273,
    "start_time": "2022-04-10T19:12:26.533Z"
   },
   {
    "duration": 6,
    "start_time": "2022-04-10T19:12:26.808Z"
   },
   {
    "duration": 25,
    "start_time": "2022-04-10T19:12:26.815Z"
   },
   {
    "duration": 207,
    "start_time": "2022-04-10T19:12:26.842Z"
   },
   {
    "duration": 9,
    "start_time": "2022-04-10T19:12:27.051Z"
   },
   {
    "duration": 23,
    "start_time": "2022-04-10T19:12:27.062Z"
   },
   {
    "duration": 230,
    "start_time": "2022-04-10T19:12:27.087Z"
   },
   {
    "duration": 21,
    "start_time": "2022-04-10T19:12:27.319Z"
   },
   {
    "duration": 6,
    "start_time": "2022-04-10T19:12:27.342Z"
   },
   {
    "duration": 246,
    "start_time": "2022-04-10T19:12:27.350Z"
   },
   {
    "duration": 345,
    "start_time": "2022-04-10T19:12:27.598Z"
   },
   {
    "duration": 7,
    "start_time": "2022-04-10T19:12:27.945Z"
   },
   {
    "duration": 146,
    "start_time": "2022-04-10T19:12:27.954Z"
   },
   {
    "duration": 6,
    "start_time": "2022-04-10T19:12:28.102Z"
   },
   {
    "duration": 35,
    "start_time": "2022-04-10T19:12:28.110Z"
   },
   {
    "duration": 9,
    "start_time": "2022-04-10T19:12:28.147Z"
   },
   {
    "duration": 174,
    "start_time": "2022-04-10T19:12:28.158Z"
   },
   {
    "duration": 7,
    "start_time": "2022-04-10T19:12:28.334Z"
   },
   {
    "duration": 9,
    "start_time": "2022-04-10T19:12:28.343Z"
   },
   {
    "duration": 11,
    "start_time": "2022-04-10T19:12:28.354Z"
   },
   {
    "duration": 10,
    "start_time": "2022-04-10T19:12:28.367Z"
   },
   {
    "duration": 10,
    "start_time": "2022-04-10T19:12:28.379Z"
   },
   {
    "duration": 13,
    "start_time": "2022-04-10T19:12:28.391Z"
   },
   {
    "duration": 8,
    "start_time": "2022-04-10T19:12:28.406Z"
   },
   {
    "duration": 11,
    "start_time": "2022-04-10T19:12:28.416Z"
   },
   {
    "duration": 5,
    "start_time": "2022-04-10T19:12:28.440Z"
   },
   {
    "duration": 13,
    "start_time": "2022-04-10T19:12:28.446Z"
   },
   {
    "duration": 7,
    "start_time": "2022-04-10T19:12:28.464Z"
   },
   {
    "duration": 24,
    "start_time": "2022-04-10T19:12:28.473Z"
   },
   {
    "duration": 11,
    "start_time": "2022-04-10T19:12:28.499Z"
   },
   {
    "duration": 15,
    "start_time": "2022-04-10T19:12:28.512Z"
   },
   {
    "duration": 16,
    "start_time": "2022-04-10T19:12:28.529Z"
   },
   {
    "duration": 13,
    "start_time": "2022-04-10T19:12:28.546Z"
   },
   {
    "duration": 16,
    "start_time": "2022-04-10T19:12:28.561Z"
   },
   {
    "duration": 5,
    "start_time": "2022-04-10T19:13:50.152Z"
   },
   {
    "duration": 5,
    "start_time": "2022-04-10T19:14:19.405Z"
   },
   {
    "duration": 2558,
    "start_time": "2022-04-10T19:15:16.418Z"
   },
   {
    "duration": 6,
    "start_time": "2022-04-10T19:16:01.168Z"
   },
   {
    "duration": 6,
    "start_time": "2022-04-10T19:16:05.177Z"
   },
   {
    "duration": 5,
    "start_time": "2022-04-10T19:28:09.118Z"
   },
   {
    "duration": 5,
    "start_time": "2022-04-10T19:28:10.038Z"
   },
   {
    "duration": 6,
    "start_time": "2022-04-10T19:28:20.806Z"
   },
   {
    "duration": 5,
    "start_time": "2022-04-10T19:28:26.422Z"
   },
   {
    "duration": 1233,
    "start_time": "2022-04-11T15:30:33.215Z"
   },
   {
    "duration": 108,
    "start_time": "2022-04-11T15:30:34.450Z"
   },
   {
    "duration": 5,
    "start_time": "2022-04-11T15:30:34.560Z"
   },
   {
    "duration": 10,
    "start_time": "2022-04-11T15:30:34.567Z"
   },
   {
    "duration": 28,
    "start_time": "2022-04-11T15:30:34.580Z"
   },
   {
    "duration": 10,
    "start_time": "2022-04-11T15:30:34.610Z"
   },
   {
    "duration": 9,
    "start_time": "2022-04-11T15:30:34.622Z"
   },
   {
    "duration": 17,
    "start_time": "2022-04-11T15:30:34.632Z"
   },
   {
    "duration": 7,
    "start_time": "2022-04-11T15:30:34.650Z"
   },
   {
    "duration": 14,
    "start_time": "2022-04-11T15:30:34.679Z"
   },
   {
    "duration": 16,
    "start_time": "2022-04-11T15:30:34.695Z"
   },
   {
    "duration": 6,
    "start_time": "2022-04-11T15:30:34.712Z"
   },
   {
    "duration": 6,
    "start_time": "2022-04-11T15:30:34.720Z"
   },
   {
    "duration": 292,
    "start_time": "2022-04-11T15:30:34.730Z"
   },
   {
    "duration": 5,
    "start_time": "2022-04-11T15:30:35.024Z"
   },
   {
    "duration": 14,
    "start_time": "2022-04-11T15:30:35.031Z"
   },
   {
    "duration": 227,
    "start_time": "2022-04-11T15:30:35.046Z"
   },
   {
    "duration": 19,
    "start_time": "2022-04-11T15:30:35.275Z"
   },
   {
    "duration": 16,
    "start_time": "2022-04-11T15:30:35.296Z"
   },
   {
    "duration": 192,
    "start_time": "2022-04-11T15:30:35.314Z"
   },
   {
    "duration": 9,
    "start_time": "2022-04-11T15:30:35.508Z"
   },
   {
    "duration": 7,
    "start_time": "2022-04-11T15:30:35.519Z"
   },
   {
    "duration": 227,
    "start_time": "2022-04-11T15:30:35.528Z"
   },
   {
    "duration": 356,
    "start_time": "2022-04-11T15:30:35.757Z"
   },
   {
    "duration": 6,
    "start_time": "2022-04-11T15:30:36.115Z"
   },
   {
    "duration": 138,
    "start_time": "2022-04-11T15:30:36.123Z"
   },
   {
    "duration": 5,
    "start_time": "2022-04-11T15:30:36.263Z"
   },
   {
    "duration": 32,
    "start_time": "2022-04-11T15:30:36.270Z"
   },
   {
    "duration": 8,
    "start_time": "2022-04-11T15:30:36.304Z"
   },
   {
    "duration": 160,
    "start_time": "2022-04-11T15:30:36.314Z"
   },
   {
    "duration": 12,
    "start_time": "2022-04-11T15:30:36.478Z"
   },
   {
    "duration": 6,
    "start_time": "2022-04-11T15:30:36.492Z"
   },
   {
    "duration": 6,
    "start_time": "2022-04-11T15:30:36.500Z"
   },
   {
    "duration": 6,
    "start_time": "2022-04-11T15:30:36.507Z"
   },
   {
    "duration": 5,
    "start_time": "2022-04-11T15:30:36.514Z"
   },
   {
    "duration": 11,
    "start_time": "2022-04-11T15:30:36.521Z"
   },
   {
    "duration": 5,
    "start_time": "2022-04-11T15:30:36.533Z"
   },
   {
    "duration": 10,
    "start_time": "2022-04-11T15:30:36.540Z"
   },
   {
    "duration": 36,
    "start_time": "2022-04-11T15:30:36.551Z"
   },
   {
    "duration": 11,
    "start_time": "2022-04-11T15:30:36.589Z"
   },
   {
    "duration": 4,
    "start_time": "2022-04-11T15:30:36.604Z"
   },
   {
    "duration": 11,
    "start_time": "2022-04-11T15:30:36.610Z"
   },
   {
    "duration": 6,
    "start_time": "2022-04-11T15:30:36.622Z"
   },
   {
    "duration": 5,
    "start_time": "2022-04-11T15:30:36.630Z"
   },
   {
    "duration": 6,
    "start_time": "2022-04-11T15:30:36.637Z"
   },
   {
    "duration": 14,
    "start_time": "2022-04-11T15:30:36.645Z"
   },
   {
    "duration": 28,
    "start_time": "2022-04-11T15:30:36.660Z"
   },
   {
    "duration": 9,
    "start_time": "2022-04-11T15:30:36.690Z"
   },
   {
    "duration": 5,
    "start_time": "2022-04-11T15:30:36.701Z"
   },
   {
    "duration": 6,
    "start_time": "2022-04-11T15:30:36.708Z"
   },
   {
    "duration": 7,
    "start_time": "2022-04-11T15:30:36.715Z"
   },
   {
    "duration": 197,
    "start_time": "2022-04-11T15:35:04.504Z"
   },
   {
    "duration": 180,
    "start_time": "2022-04-11T15:35:17.194Z"
   },
   {
    "duration": 10,
    "start_time": "2022-04-11T15:40:36.069Z"
   },
   {
    "duration": 269,
    "start_time": "2022-04-11T15:41:13.921Z"
   },
   {
    "duration": 11,
    "start_time": "2022-04-11T15:41:29.260Z"
   },
   {
    "duration": 47,
    "start_time": "2022-04-12T05:59:26.489Z"
   },
   {
    "duration": 1258,
    "start_time": "2022-04-12T05:59:34.273Z"
   },
   {
    "duration": 117,
    "start_time": "2022-04-12T05:59:35.533Z"
   },
   {
    "duration": 6,
    "start_time": "2022-04-12T05:59:35.652Z"
   },
   {
    "duration": 9,
    "start_time": "2022-04-12T05:59:35.659Z"
   },
   {
    "duration": 17,
    "start_time": "2022-04-12T05:59:35.669Z"
   },
   {
    "duration": 10,
    "start_time": "2022-04-12T05:59:35.687Z"
   },
   {
    "duration": 11,
    "start_time": "2022-04-12T05:59:35.699Z"
   },
   {
    "duration": 21,
    "start_time": "2022-04-12T05:59:35.712Z"
   },
   {
    "duration": 25,
    "start_time": "2022-04-12T05:59:35.735Z"
   },
   {
    "duration": 7,
    "start_time": "2022-04-12T05:59:35.763Z"
   },
   {
    "duration": 19,
    "start_time": "2022-04-12T05:59:35.771Z"
   },
   {
    "duration": 5,
    "start_time": "2022-04-12T05:59:35.791Z"
   },
   {
    "duration": 10,
    "start_time": "2022-04-12T05:59:35.798Z"
   },
   {
    "duration": 296,
    "start_time": "2022-04-12T05:59:35.810Z"
   },
   {
    "duration": 5,
    "start_time": "2022-04-12T05:59:36.108Z"
   },
   {
    "duration": 11,
    "start_time": "2022-04-12T05:59:36.115Z"
   },
   {
    "duration": 190,
    "start_time": "2022-04-12T05:59:36.128Z"
   },
   {
    "duration": 11,
    "start_time": "2022-04-12T05:59:36.320Z"
   },
   {
    "duration": 30,
    "start_time": "2022-04-12T05:59:36.333Z"
   },
   {
    "duration": 183,
    "start_time": "2022-04-12T05:59:36.365Z"
   },
   {
    "duration": 10,
    "start_time": "2022-04-12T05:59:36.553Z"
   },
   {
    "duration": 9,
    "start_time": "2022-04-12T05:59:36.564Z"
   },
   {
    "duration": 217,
    "start_time": "2022-04-12T05:59:36.574Z"
   },
   {
    "duration": 295,
    "start_time": "2022-04-12T05:59:36.793Z"
   },
   {
    "duration": 173,
    "start_time": "2022-04-12T05:59:37.090Z"
   },
   {
    "duration": 6,
    "start_time": "2022-04-12T05:59:37.265Z"
   },
   {
    "duration": 124,
    "start_time": "2022-04-12T05:59:37.273Z"
   },
   {
    "duration": 5,
    "start_time": "2022-04-12T05:59:37.400Z"
   },
   {
    "duration": 16,
    "start_time": "2022-04-12T05:59:37.406Z"
   },
   {
    "duration": 6,
    "start_time": "2022-04-12T05:59:37.424Z"
   },
   {
    "duration": 160,
    "start_time": "2022-04-12T05:59:37.431Z"
   },
   {
    "duration": 4,
    "start_time": "2022-04-12T05:59:37.593Z"
   },
   {
    "duration": 5,
    "start_time": "2022-04-12T05:59:37.598Z"
   },
   {
    "duration": 5,
    "start_time": "2022-04-12T05:59:37.604Z"
   },
   {
    "duration": 6,
    "start_time": "2022-04-12T05:59:37.611Z"
   },
   {
    "duration": 6,
    "start_time": "2022-04-12T05:59:37.618Z"
   },
   {
    "duration": 5,
    "start_time": "2022-04-12T05:59:37.625Z"
   },
   {
    "duration": 4,
    "start_time": "2022-04-12T05:59:37.654Z"
   },
   {
    "duration": 8,
    "start_time": "2022-04-12T05:59:37.660Z"
   },
   {
    "duration": 6,
    "start_time": "2022-04-12T05:59:37.670Z"
   },
   {
    "duration": 7,
    "start_time": "2022-04-12T05:59:37.678Z"
   },
   {
    "duration": 5,
    "start_time": "2022-04-12T05:59:37.686Z"
   },
   {
    "duration": 11,
    "start_time": "2022-04-12T05:59:37.693Z"
   },
   {
    "duration": 5,
    "start_time": "2022-04-12T05:59:37.705Z"
   },
   {
    "duration": 6,
    "start_time": "2022-04-12T05:59:37.711Z"
   },
   {
    "duration": 6,
    "start_time": "2022-04-12T05:59:37.718Z"
   },
   {
    "duration": 8,
    "start_time": "2022-04-12T05:59:37.725Z"
   },
   {
    "duration": 4,
    "start_time": "2022-04-12T05:59:37.754Z"
   },
   {
    "duration": 5,
    "start_time": "2022-04-12T05:59:37.760Z"
   },
   {
    "duration": 5,
    "start_time": "2022-04-12T05:59:37.766Z"
   },
   {
    "duration": 8,
    "start_time": "2022-04-12T05:59:37.772Z"
   },
   {
    "duration": 6,
    "start_time": "2022-04-12T05:59:37.782Z"
   },
   {
    "duration": 5,
    "start_time": "2022-04-12T05:59:54.456Z"
   },
   {
    "duration": 7,
    "start_time": "2022-04-12T06:00:02.965Z"
   },
   {
    "duration": 10,
    "start_time": "2022-04-12T06:00:23.092Z"
   },
   {
    "duration": 25,
    "start_time": "2022-04-12T06:01:15.351Z"
   },
   {
    "duration": 23,
    "start_time": "2022-04-12T06:01:44.596Z"
   },
   {
    "duration": 12,
    "start_time": "2022-04-12T06:01:52.754Z"
   },
   {
    "duration": 10,
    "start_time": "2022-04-12T06:01:57.627Z"
   },
   {
    "duration": 88,
    "start_time": "2022-04-12T06:02:29.774Z"
   },
   {
    "duration": 11,
    "start_time": "2022-04-12T06:02:33.534Z"
   },
   {
    "duration": 11,
    "start_time": "2022-04-12T06:02:36.716Z"
   },
   {
    "duration": 2417,
    "start_time": "2022-04-12T15:26:43.046Z"
   },
   {
    "duration": 269,
    "start_time": "2022-04-12T15:26:45.466Z"
   },
   {
    "duration": 10,
    "start_time": "2022-04-12T15:26:45.738Z"
   },
   {
    "duration": 9,
    "start_time": "2022-04-12T15:26:45.751Z"
   },
   {
    "duration": 24,
    "start_time": "2022-04-12T15:26:45.763Z"
   },
   {
    "duration": 16,
    "start_time": "2022-04-12T15:26:45.789Z"
   },
   {
    "duration": 13,
    "start_time": "2022-04-12T15:26:45.808Z"
   },
   {
    "duration": 25,
    "start_time": "2022-04-12T15:26:45.823Z"
   },
   {
    "duration": 47,
    "start_time": "2022-04-12T15:26:45.851Z"
   },
   {
    "duration": 10,
    "start_time": "2022-04-12T15:26:45.904Z"
   },
   {
    "duration": 23,
    "start_time": "2022-04-12T15:26:45.917Z"
   },
   {
    "duration": 8,
    "start_time": "2022-04-12T15:26:45.942Z"
   },
   {
    "duration": 13,
    "start_time": "2022-04-12T15:26:45.993Z"
   },
   {
    "duration": 14,
    "start_time": "2022-04-12T15:26:46.010Z"
   },
   {
    "duration": 9,
    "start_time": "2022-04-12T15:26:46.026Z"
   },
   {
    "duration": 482,
    "start_time": "2022-04-12T15:26:46.037Z"
   },
   {
    "duration": 7,
    "start_time": "2022-04-12T15:26:46.522Z"
   },
   {
    "duration": 11,
    "start_time": "2022-04-12T15:26:46.532Z"
   },
   {
    "duration": 350,
    "start_time": "2022-04-12T15:26:46.546Z"
   },
   {
    "duration": 13,
    "start_time": "2022-04-12T15:26:46.898Z"
   },
   {
    "duration": 24,
    "start_time": "2022-04-12T15:26:46.915Z"
   },
   {
    "duration": 353,
    "start_time": "2022-04-12T15:26:46.942Z"
   },
   {
    "duration": 14,
    "start_time": "2022-04-12T15:26:47.299Z"
   },
   {
    "duration": 8,
    "start_time": "2022-04-12T15:26:47.316Z"
   },
   {
    "duration": 388,
    "start_time": "2022-04-12T15:26:47.326Z"
   },
   {
    "duration": 496,
    "start_time": "2022-04-12T15:26:47.716Z"
   },
   {
    "duration": 329,
    "start_time": "2022-04-12T15:26:48.214Z"
   },
   {
    "duration": 10,
    "start_time": "2022-04-12T15:26:48.548Z"
   },
   {
    "duration": 250,
    "start_time": "2022-04-12T15:26:48.560Z"
   },
   {
    "duration": 7,
    "start_time": "2022-04-12T15:26:48.812Z"
   },
   {
    "duration": 29,
    "start_time": "2022-04-12T15:26:48.821Z"
   },
   {
    "duration": 10,
    "start_time": "2022-04-12T15:26:48.852Z"
   },
   {
    "duration": 270,
    "start_time": "2022-04-12T15:26:48.892Z"
   },
   {
    "duration": 7,
    "start_time": "2022-04-12T15:26:49.164Z"
   },
   {
    "duration": 22,
    "start_time": "2022-04-12T15:26:49.174Z"
   },
   {
    "duration": 7,
    "start_time": "2022-04-12T15:26:49.198Z"
   },
   {
    "duration": 8,
    "start_time": "2022-04-12T15:26:49.207Z"
   },
   {
    "duration": 8,
    "start_time": "2022-04-12T15:26:49.217Z"
   },
   {
    "duration": 6,
    "start_time": "2022-04-12T15:26:49.228Z"
   },
   {
    "duration": 7,
    "start_time": "2022-04-12T15:26:49.236Z"
   },
   {
    "duration": 50,
    "start_time": "2022-04-12T15:26:49.245Z"
   },
   {
    "duration": 8,
    "start_time": "2022-04-12T15:26:49.298Z"
   },
   {
    "duration": 8,
    "start_time": "2022-04-12T15:26:49.309Z"
   },
   {
    "duration": 8,
    "start_time": "2022-04-12T15:26:49.319Z"
   },
   {
    "duration": 16,
    "start_time": "2022-04-12T15:26:49.329Z"
   },
   {
    "duration": 46,
    "start_time": "2022-04-12T15:26:49.347Z"
   },
   {
    "duration": 7,
    "start_time": "2022-04-12T15:26:49.395Z"
   },
   {
    "duration": 9,
    "start_time": "2022-04-12T15:26:49.404Z"
   },
   {
    "duration": 11,
    "start_time": "2022-04-12T15:26:49.416Z"
   },
   {
    "duration": 6,
    "start_time": "2022-04-12T15:26:49.429Z"
   },
   {
    "duration": 7,
    "start_time": "2022-04-12T15:26:49.437Z"
   },
   {
    "duration": 49,
    "start_time": "2022-04-12T15:26:49.446Z"
   },
   {
    "duration": 21,
    "start_time": "2022-04-12T15:26:49.497Z"
   },
   {
    "duration": 18,
    "start_time": "2022-04-12T15:26:49.521Z"
   },
   {
    "duration": 16,
    "start_time": "2022-04-12T15:27:26.186Z"
   },
   {
    "duration": 15,
    "start_time": "2022-04-12T15:29:26.852Z"
   },
   {
    "duration": 14,
    "start_time": "2022-04-12T15:29:33.100Z"
   },
   {
    "duration": 545,
    "start_time": "2022-04-12T15:34:09.791Z"
   }
  ],
  "kernelspec": {
   "display_name": "Python 3 (ipykernel)",
   "language": "python",
   "name": "python3"
  },
  "language_info": {
   "codemirror_mode": {
    "name": "ipython",
    "version": 3
   },
   "file_extension": ".py",
   "mimetype": "text/x-python",
   "name": "python",
   "nbconvert_exporter": "python",
   "pygments_lexer": "ipython3",
   "version": "3.9.7"
  },
  "toc": {
   "base_numbering": 1,
   "nav_menu": {},
   "number_sections": true,
   "sideBar": true,
   "skip_h1_title": true,
   "title_cell": "Table of Contents",
   "title_sidebar": "Contents",
   "toc_cell": true,
   "toc_position": {
    "height": "calc(100% - 180px)",
    "left": "10px",
    "top": "150px",
    "width": "384px"
   },
   "toc_section_display": true,
   "toc_window_display": true
  }
 },
 "nbformat": 4,
 "nbformat_minor": 2
}
